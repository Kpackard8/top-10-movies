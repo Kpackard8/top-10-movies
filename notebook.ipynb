{
 "cells": [
  {
   "cell_type": "markdown",
   "source": "# Top 10 movies project 🎥",
   "metadata": {
    "cell_id": "64eee3507a0447d5b194464a73c5e3c8",
    "tags": [],
    "deepnote_cell_type": "markdown",
    "deepnote_cell_height": 82
   }
  },
  {
   "cell_type": "code",
   "metadata": {
    "cell_id": "47da147c22014d0fbd2cb2618ad4e601",
    "tags": [],
    "deepnote_to_be_reexecuted": false,
    "source_hash": "9b82ee11",
    "execution_start": 1648993547040,
    "execution_millis": 3,
    "deepnote_cell_type": "code",
    "deepnote_cell_height": 81
   },
   "source": "import pandas as pd",
   "execution_count": null,
   "outputs": []
  },
  {
   "cell_type": "code",
   "metadata": {
    "cell_id": "98838b06a4994f2bac39cfb6de9b5d4e",
    "tags": [],
    "deepnote_to_be_reexecuted": false,
    "source_hash": "f035045e",
    "execution_start": 1648994295875,
    "execution_millis": 1,
    "deepnote_cell_type": "code",
    "deepnote_cell_height": 81
   },
   "source": "df = pd.read_csv(\"imdb_top_1000.csv\")",
   "execution_count": null,
   "outputs": []
  },
  {
   "cell_type": "code",
   "metadata": {
    "cell_id": "6d0a57ea7bb049b590c107d4d7d0631c",
    "tags": [],
    "deepnote_to_be_reexecuted": false,
    "source_hash": "f804c160",
    "execution_start": 1648994306781,
    "execution_millis": 100,
    "deepnote_cell_type": "code",
    "deepnote_cell_height": 600
   },
   "source": "df",
   "execution_count": null,
   "outputs": [
    {
     "output_type": "execute_result",
     "execution_count": 3,
     "data": {
      "application/vnd.deepnote.dataframe.v3+json": {
       "column_count": 16,
       "row_count": 1000,
       "columns": [
        {
         "name": "Poster_Link",
         "dtype": "object",
         "stats": {
          "unique_count": 1000,
          "nan_count": 0,
          "categories": [
           {
            "name": "https://m.media-amazon.com/images/M/MV5BMDFkYTc0MGEtZmNhMC00ZDIzLWFmNTEtODM1ZmRlYWMwMWFmXkEyXkFqcGdeQXVyMTMxODk2OTU@._V1_UX67_CR0,0,67,98_AL_.jpg",
            "count": 1
           },
           {
            "name": "https://m.media-amazon.com/images/M/MV5BM2MyNjYxNmUtYTAwNi00MTYxLWJmNWYtYzZlODY3ZTk3OTFlXkEyXkFqcGdeQXVyNzkwMjQ5NzM@._V1_UY98_CR1,0,67,98_AL_.jpg",
            "count": 1
           },
           {
            "name": "998 others",
            "count": 998
           }
          ]
         }
        },
        {
         "name": "Series_Title",
         "dtype": "object",
         "stats": {
          "unique_count": 999,
          "nan_count": 0,
          "categories": [
           {
            "name": "Drishyam",
            "count": 2
           },
           {
            "name": "The Shawshank Redemption",
            "count": 1
           },
           {
            "name": "997 others",
            "count": 997
           }
          ]
         }
        },
        {
         "name": "Released_Year",
         "dtype": "object",
         "stats": {
          "unique_count": 100,
          "nan_count": 0,
          "categories": [
           {
            "name": "2014",
            "count": 32
           },
           {
            "name": "2004",
            "count": 31
           },
           {
            "name": "98 others",
            "count": 937
           }
          ]
         }
        },
        {
         "name": "Certificate",
         "dtype": "object",
         "stats": {
          "unique_count": 16,
          "nan_count": 101,
          "categories": [
           {
            "name": "U",
            "count": 234
           },
           {
            "name": "15 others",
            "count": 665
           },
           {
            "name": "Missing",
            "count": 101
           }
          ]
         }
        },
        {
         "name": "Runtime",
         "dtype": "object",
         "stats": {
          "unique_count": 140,
          "nan_count": 0,
          "categories": [
           {
            "name": "130 min",
            "count": 23
           },
           {
            "name": "100 min",
            "count": 23
           },
           {
            "name": "138 others",
            "count": 954
           }
          ]
         }
        },
        {
         "name": "Genre",
         "dtype": "object",
         "stats": {
          "unique_count": 202,
          "nan_count": 0,
          "categories": [
           {
            "name": "Drama",
            "count": 85
           },
           {
            "name": "Drama, Romance",
            "count": 37
           },
           {
            "name": "200 others",
            "count": 878
           }
          ]
         }
        },
        {
         "name": "IMDB_Rating",
         "dtype": "float64",
         "stats": {
          "unique_count": 17,
          "nan_count": 0,
          "min": "7.6",
          "max": "9.3",
          "histogram": [
           {
            "bin_start": 7.6,
            "bin_end": 7.77,
            "count": 280
           },
           {
            "bin_start": 7.77,
            "bin_end": 7.9399999999999995,
            "count": 257
           },
           {
            "bin_start": 7.9399999999999995,
            "bin_end": 8.11,
            "count": 268
           },
           {
            "bin_start": 8.11,
            "bin_end": 8.28,
            "count": 67
           },
           {
            "bin_start": 8.28,
            "bin_end": 8.45,
            "count": 75
           },
           {
            "bin_start": 8.45,
            "bin_end": 8.620000000000001,
            "count": 35
           },
           {
            "bin_start": 8.620000000000001,
            "bin_end": 8.790000000000001,
            "count": 5
           },
           {
            "bin_start": 8.790000000000001,
            "bin_end": 8.96,
            "count": 8
           },
           {
            "bin_start": 8.96,
            "bin_end": 9.13,
            "count": 3
           },
           {
            "bin_start": 9.13,
            "bin_end": 9.3,
            "count": 2
           }
          ]
         }
        },
        {
         "name": "Overview",
         "dtype": "object",
         "stats": {
          "unique_count": 1000,
          "nan_count": 0,
          "categories": [
           {
            "name": "Two imprisoned men bond over a number of years, finding solace and eventual redemption through acts of common decency.",
            "count": 1
           },
           {
            "name": "An organized crime dynasty's aging patriarch transfers control of his clandestine empire to his reluctant son.",
            "count": 1
           },
           {
            "name": "998 others",
            "count": 998
           }
          ]
         }
        },
        {
         "name": "Meta_score",
         "dtype": "float64",
         "stats": {
          "unique_count": 63,
          "nan_count": 157,
          "min": "28.0",
          "max": "100.0",
          "histogram": [
           {
            "bin_start": 28,
            "bin_end": 35.2,
            "count": 3
           },
           {
            "bin_start": 35.2,
            "bin_end": 42.4,
            "count": 3
           },
           {
            "bin_start": 42.4,
            "bin_end": 49.6,
            "count": 13
           },
           {
            "bin_start": 49.6,
            "bin_end": 56.8,
            "count": 27
           },
           {
            "bin_start": 56.8,
            "bin_end": 64,
            "count": 53
           },
           {
            "bin_start": 64,
            "bin_end": 71.2,
            "count": 131
           },
           {
            "bin_start": 71.2,
            "bin_end": 78.4,
            "count": 181
           },
           {
            "bin_start": 78.4,
            "bin_end": 85.6,
            "count": 182
           },
           {
            "bin_start": 85.6,
            "bin_end": 92.8,
            "count": 150
           },
           {
            "bin_start": 92.8,
            "bin_end": 100,
            "count": 100
           }
          ]
         }
        },
        {
         "name": "Director",
         "dtype": "object",
         "stats": {
          "unique_count": 548,
          "nan_count": 0,
          "categories": [
           {
            "name": "Alfred Hitchcock",
            "count": 14
           },
           {
            "name": "Steven Spielberg",
            "count": 13
           },
           {
            "name": "546 others",
            "count": 973
           }
          ]
         }
        },
        {
         "name": "Star1",
         "dtype": "object",
         "stats": {
          "unique_count": 660,
          "nan_count": 0,
          "categories": [
           {
            "name": "Tom Hanks",
            "count": 12
           },
           {
            "name": "Robert De Niro",
            "count": 11
           },
           {
            "name": "658 others",
            "count": 977
           }
          ]
         }
        },
        {
         "name": "Star2",
         "dtype": "object",
         "stats": {
          "unique_count": 841,
          "nan_count": 0,
          "categories": [
           {
            "name": "Emma Watson",
            "count": 7
           },
           {
            "name": "Matt Damon",
            "count": 5
           },
           {
            "name": "839 others",
            "count": 988
           }
          ]
         }
        },
        {
         "name": "Star3",
         "dtype": "object",
         "stats": {
          "unique_count": 891,
          "nan_count": 0,
          "categories": [
           {
            "name": "Rupert Grint",
            "count": 5
           },
           {
            "name": "Samuel L. Jackson",
            "count": 4
           },
           {
            "name": "889 others",
            "count": 991
           }
          ]
         }
        },
        {
         "name": "Star4",
         "dtype": "object",
         "stats": {
          "unique_count": 939,
          "nan_count": 0,
          "categories": [
           {
            "name": "Michael Caine",
            "count": 4
           },
           {
            "name": "Mark Ruffalo",
            "count": 3
           },
           {
            "name": "937 others",
            "count": 993
           }
          ]
         }
        },
        {
         "name": "No_of_Votes",
         "dtype": "int64",
         "stats": {
          "unique_count": 999,
          "nan_count": 0,
          "min": "25088",
          "max": "2343110",
          "histogram": [
           {
            "bin_start": 25088,
            "bin_end": 256890.2,
            "count": 663
           },
           {
            "bin_start": 256890.2,
            "bin_end": 488692.4,
            "count": 150
           },
           {
            "bin_start": 488692.4,
            "bin_end": 720494.6000000001,
            "count": 94
           },
           {
            "bin_start": 720494.6000000001,
            "bin_end": 952296.8,
            "count": 47
           },
           {
            "bin_start": 952296.8,
            "bin_end": 1184099,
            "count": 20
           },
           {
            "bin_start": 1184099,
            "bin_end": 1415901.2000000002,
            "count": 12
           },
           {
            "bin_start": 1415901.2000000002,
            "bin_end": 1647703.4000000001,
            "count": 6
           },
           {
            "bin_start": 1647703.4000000001,
            "bin_end": 1879505.6,
            "count": 5
           },
           {
            "bin_start": 1879505.6,
            "bin_end": 2111307.8,
            "count": 1
           },
           {
            "bin_start": 2111307.8,
            "bin_end": 2343110,
            "count": 2
           }
          ]
         }
        },
        {
         "name": "Gross",
         "dtype": "object",
         "stats": {
          "unique_count": 823,
          "nan_count": 169,
          "categories": [
           {
            "name": "4,360,000",
            "count": 5
           },
           {
            "name": "822 others",
            "count": 826
           },
           {
            "name": "Missing",
            "count": 169
           }
          ]
         }
        },
        {
         "name": "_deepnote_index_column",
         "dtype": "int64"
        }
       ],
       "rows": [
        {
         "Poster_Link": "https://m.media-amazon.com/images/M/MV5BMDFkYTc0MGEtZmNhMC00ZDIzLWFmNTEtODM1ZmRlYWMwMWFmXkEyXkFqcGdeQXVyMTMxODk2OTU@._V1_UX67_CR0,0,67,98_AL_.jpg",
         "Series_Title": "The Shawshank Redemption",
         "Released_Year": "1994",
         "Certificate": "A",
         "Runtime": "142 min",
         "Genre": "Drama",
         "IMDB_Rating": 9.3,
         "Overview": "Two imprisoned men bond over a number of years, finding solace and eventual redemption through acts of common decency.",
         "Meta_score": 80,
         "Director": "Frank Darabont",
         "Star1": "Tim Robbins",
         "Star2": "Morgan Freeman",
         "Star3": "Bob Gunton",
         "Star4": "William Sadler",
         "No_of_Votes": 2343110,
         "Gross": "28,341,469",
         "_deepnote_index_column": 0
        },
        {
         "Poster_Link": "https://m.media-amazon.com/images/M/MV5BM2MyNjYxNmUtYTAwNi00MTYxLWJmNWYtYzZlODY3ZTk3OTFlXkEyXkFqcGdeQXVyNzkwMjQ5NzM@._V1_UY98_CR1,0,67,98_AL_.jpg",
         "Series_Title": "The Godfather",
         "Released_Year": "1972",
         "Certificate": "A",
         "Runtime": "175 min",
         "Genre": "Crime, Drama",
         "IMDB_Rating": 9.2,
         "Overview": "An organized crime dynasty's aging patriarch transfers control of his clandestine empire to his reluctant son.",
         "Meta_score": 100,
         "Director": "Francis Ford Coppola",
         "Star1": "Marlon Brando",
         "Star2": "Al Pacino",
         "Star3": "James Caan",
         "Star4": "Diane Keaton",
         "No_of_Votes": 1620367,
         "Gross": "134,966,411",
         "_deepnote_index_column": 1
        },
        {
         "Poster_Link": "https://m.media-amazon.com/images/M/MV5BMTMxNTMwODM0NF5BMl5BanBnXkFtZTcwODAyMTk2Mw@@._V1_UX67_CR0,0,67,98_AL_.jpg",
         "Series_Title": "The Dark Knight",
         "Released_Year": "2008",
         "Certificate": "UA",
         "Runtime": "152 min",
         "Genre": "Action, Crime, Drama",
         "IMDB_Rating": 9,
         "Overview": "When the menace known as the Joker wreaks havoc and chaos on the people of Gotham, Batman must accept one of the greatest psychological and physical tests of his ability to fight injustice.",
         "Meta_score": 84,
         "Director": "Christopher Nolan",
         "Star1": "Christian Bale",
         "Star2": "Heath Ledger",
         "Star3": "Aaron Eckhart",
         "Star4": "Michael Caine",
         "No_of_Votes": 2303232,
         "Gross": "534,858,444",
         "_deepnote_index_column": 2
        },
        {
         "Poster_Link": "https://m.media-amazon.com/images/M/MV5BMWMwMGQzZTItY2JlNC00OWZiLWIyMDctNDk2ZDQ2YjRjMWQ0XkEyXkFqcGdeQXVyNzkwMjQ5NzM@._V1_UY98_CR1,0,67,98_AL_.jpg",
         "Series_Title": "The Godfather: Part II",
         "Released_Year": "1974",
         "Certificate": "A",
         "Runtime": "202 min",
         "Genre": "Crime, Drama",
         "IMDB_Rating": 9,
         "Overview": "The early life and career of Vito Corleone in 1920s New York City is portrayed, while his son, Michael, expands and tightens his grip on the family crime syndicate.",
         "Meta_score": 90,
         "Director": "Francis Ford Coppola",
         "Star1": "Al Pacino",
         "Star2": "Robert De Niro",
         "Star3": "Robert Duvall",
         "Star4": "Diane Keaton",
         "No_of_Votes": 1129952,
         "Gross": "57,300,000",
         "_deepnote_index_column": 3
        },
        {
         "Poster_Link": "https://m.media-amazon.com/images/M/MV5BMWU4N2FjNzYtNTVkNC00NzQ0LTg0MjAtYTJlMjFhNGUxZDFmXkEyXkFqcGdeQXVyNjc1NTYyMjg@._V1_UX67_CR0,0,67,98_AL_.jpg",
         "Series_Title": "12 Angry Men",
         "Released_Year": "1957",
         "Certificate": "U",
         "Runtime": "96 min",
         "Genre": "Crime, Drama",
         "IMDB_Rating": 9,
         "Overview": "A jury holdout attempts to prevent a miscarriage of justice by forcing his colleagues to reconsider the evidence.",
         "Meta_score": 96,
         "Director": "Sidney Lumet",
         "Star1": "Henry Fonda",
         "Star2": "Lee J. Cobb",
         "Star3": "Martin Balsam",
         "Star4": "John Fiedler",
         "No_of_Votes": 689845,
         "Gross": "4,360,000",
         "_deepnote_index_column": 4
        },
        {
         "Poster_Link": "https://m.media-amazon.com/images/M/MV5BNzA5ZDNlZWMtM2NhNS00NDJjLTk4NDItYTRmY2EwMWZlMTY3XkEyXkFqcGdeQXVyNzkwMjQ5NzM@._V1_UX67_CR0,0,67,98_AL_.jpg",
         "Series_Title": "The Lord of the Rings: The Return of the King",
         "Released_Year": "2003",
         "Certificate": "U",
         "Runtime": "201 min",
         "Genre": "Action, Adventure, Drama",
         "IMDB_Rating": 8.9,
         "Overview": "Gandalf and Aragorn lead the World of Men against Sauron's army to draw his gaze from Frodo and Sam as they approach Mount Doom with the One Ring.",
         "Meta_score": 94,
         "Director": "Peter Jackson",
         "Star1": "Elijah Wood",
         "Star2": "Viggo Mortensen",
         "Star3": "Ian McKellen",
         "Star4": "Orlando Bloom",
         "No_of_Votes": 1642758,
         "Gross": "377,845,905",
         "_deepnote_index_column": 5
        },
        {
         "Poster_Link": "https://m.media-amazon.com/images/M/MV5BNGNhMDIzZTUtNTBlZi00MTRlLWFjM2ItYzViMjE3YzI5MjljXkEyXkFqcGdeQXVyNzkwMjQ5NzM@._V1_UY98_CR0,0,67,98_AL_.jpg",
         "Series_Title": "Pulp Fiction",
         "Released_Year": "1994",
         "Certificate": "A",
         "Runtime": "154 min",
         "Genre": "Crime, Drama",
         "IMDB_Rating": 8.9,
         "Overview": "The lives of two mob hitmen, a boxer, a gangster and his wife, and a pair of diner bandits intertwine in four tales of violence and redemption.",
         "Meta_score": 94,
         "Director": "Quentin Tarantino",
         "Star1": "John Travolta",
         "Star2": "Uma Thurman",
         "Star3": "Samuel L. Jackson",
         "Star4": "Bruce Willis",
         "No_of_Votes": 1826188,
         "Gross": "107,928,762",
         "_deepnote_index_column": 6
        },
        {
         "Poster_Link": "https://m.media-amazon.com/images/M/MV5BNDE4OTMxMTctNmRhYy00NWE2LTg3YzItYTk3M2UwOTU5Njg4XkEyXkFqcGdeQXVyNjU0OTQ0OTY@._V1_UX67_CR0,0,67,98_AL_.jpg",
         "Series_Title": "Schindler's List",
         "Released_Year": "1993",
         "Certificate": "A",
         "Runtime": "195 min",
         "Genre": "Biography, Drama, History",
         "IMDB_Rating": 8.9,
         "Overview": "In German-occupied Poland during World War II, industrialist Oskar Schindler gradually becomes concerned for his Jewish workforce after witnessing their persecution by the Nazis.",
         "Meta_score": 94,
         "Director": "Steven Spielberg",
         "Star1": "Liam Neeson",
         "Star2": "Ralph Fiennes",
         "Star3": "Ben Kingsley",
         "Star4": "Caroline Goodall",
         "No_of_Votes": 1213505,
         "Gross": "96,898,818",
         "_deepnote_index_column": 7
        },
        {
         "Poster_Link": "https://m.media-amazon.com/images/M/MV5BMjAxMzY3NjcxNF5BMl5BanBnXkFtZTcwNTI5OTM0Mw@@._V1_UX67_CR0,0,67,98_AL_.jpg",
         "Series_Title": "Inception",
         "Released_Year": "2010",
         "Certificate": "UA",
         "Runtime": "148 min",
         "Genre": "Action, Adventure, Sci-Fi",
         "IMDB_Rating": 8.8,
         "Overview": "A thief who steals corporate secrets through the use of dream-sharing technology is given the inverse task of planting an idea into the mind of a C.E.O.",
         "Meta_score": 74,
         "Director": "Christopher Nolan",
         "Star1": "Leonardo DiCaprio",
         "Star2": "Joseph Gordon-Levitt",
         "Star3": "Elliot Page",
         "Star4": "Ken Watanabe",
         "No_of_Votes": 2067042,
         "Gross": "292,576,195",
         "_deepnote_index_column": 8
        },
        {
         "Poster_Link": "https://m.media-amazon.com/images/M/MV5BMmEzNTkxYjQtZTc0MC00YTVjLTg5ZTEtZWMwOWVlYzY0NWIwXkEyXkFqcGdeQXVyNzkwMjQ5NzM@._V1_UX67_CR0,0,67,98_AL_.jpg",
         "Series_Title": "Fight Club",
         "Released_Year": "1999",
         "Certificate": "A",
         "Runtime": "139 min",
         "Genre": "Drama",
         "IMDB_Rating": 8.8,
         "Overview": "An insomniac office worker and a devil-may-care soapmaker form an underground fight club that evolves into something much, much more.",
         "Meta_score": 66,
         "Director": "David Fincher",
         "Star1": "Brad Pitt",
         "Star2": "Edward Norton",
         "Star3": "Meat Loaf",
         "Star4": "Zach Grenier",
         "No_of_Votes": 1854740,
         "Gross": "37,030,102",
         "_deepnote_index_column": 9
        }
       ]
      },
      "text/plain": "                                           Poster_Link  \\\n0    https://m.media-amazon.com/images/M/MV5BMDFkYT...   \n1    https://m.media-amazon.com/images/M/MV5BM2MyNj...   \n2    https://m.media-amazon.com/images/M/MV5BMTMxNT...   \n3    https://m.media-amazon.com/images/M/MV5BMWMwMG...   \n4    https://m.media-amazon.com/images/M/MV5BMWU4N2...   \n..                                                 ...   \n995  https://m.media-amazon.com/images/M/MV5BNGEwMT...   \n996  https://m.media-amazon.com/images/M/MV5BODk3Yj...   \n997  https://m.media-amazon.com/images/M/MV5BM2U3Yz...   \n998  https://m.media-amazon.com/images/M/MV5BZTBmMj...   \n999  https://m.media-amazon.com/images/M/MV5BMTY5OD...   \n\n                 Series_Title Released_Year Certificate  Runtime  \\\n0    The Shawshank Redemption          1994           A  142 min   \n1               The Godfather          1972           A  175 min   \n2             The Dark Knight          2008          UA  152 min   \n3      The Godfather: Part II          1974           A  202 min   \n4                12 Angry Men          1957           U   96 min   \n..                        ...           ...         ...      ...   \n995    Breakfast at Tiffany's          1961           A  115 min   \n996                     Giant          1956           G  201 min   \n997     From Here to Eternity          1953      Passed  118 min   \n998                  Lifeboat          1944         NaN   97 min   \n999              The 39 Steps          1935         NaN   86 min   \n\n                        Genre  IMDB_Rating  \\\n0                       Drama          9.3   \n1                Crime, Drama          9.2   \n2        Action, Crime, Drama          9.0   \n3                Crime, Drama          9.0   \n4                Crime, Drama          9.0   \n..                        ...          ...   \n995    Comedy, Drama, Romance          7.6   \n996            Drama, Western          7.6   \n997       Drama, Romance, War          7.6   \n998                Drama, War          7.6   \n999  Crime, Mystery, Thriller          7.6   \n\n                                              Overview  Meta_score  \\\n0    Two imprisoned men bond over a number of years...        80.0   \n1    An organized crime dynasty's aging patriarch t...       100.0   \n2    When the menace known as the Joker wreaks havo...        84.0   \n3    The early life and career of Vito Corleone in ...        90.0   \n4    A jury holdout attempts to prevent a miscarria...        96.0   \n..                                                 ...         ...   \n995  A young New York socialite becomes interested ...        76.0   \n996  Sprawling epic covering the life of a Texas ca...        84.0   \n997  In Hawaii in 1941, a private is cruelly punish...        85.0   \n998  Several survivors of a torpedoed merchant ship...        78.0   \n999  A man in London tries to help a counter-espion...        93.0   \n\n                 Director              Star1              Star2  \\\n0          Frank Darabont        Tim Robbins     Morgan Freeman   \n1    Francis Ford Coppola      Marlon Brando          Al Pacino   \n2       Christopher Nolan     Christian Bale       Heath Ledger   \n3    Francis Ford Coppola          Al Pacino     Robert De Niro   \n4            Sidney Lumet        Henry Fonda        Lee J. Cobb   \n..                    ...                ...                ...   \n995         Blake Edwards     Audrey Hepburn     George Peppard   \n996        George Stevens   Elizabeth Taylor        Rock Hudson   \n997        Fred Zinnemann     Burt Lancaster   Montgomery Clift   \n998      Alfred Hitchcock  Tallulah Bankhead        John Hodiak   \n999      Alfred Hitchcock       Robert Donat  Madeleine Carroll   \n\n              Star3           Star4  No_of_Votes        Gross  \n0        Bob Gunton  William Sadler      2343110   28,341,469  \n1        James Caan    Diane Keaton      1620367  134,966,411  \n2     Aaron Eckhart   Michael Caine      2303232  534,858,444  \n3     Robert Duvall    Diane Keaton      1129952   57,300,000  \n4     Martin Balsam    John Fiedler       689845    4,360,000  \n..              ...             ...          ...          ...  \n995   Patricia Neal     Buddy Ebsen       166544          NaN  \n996      James Dean   Carroll Baker        34075          NaN  \n997    Deborah Kerr      Donna Reed        43374   30,500,000  \n998   Walter Slezak  William Bendix        26471          NaN  \n999  Lucie Mannheim  Godfrey Tearle        51853          NaN  \n\n[1000 rows x 16 columns]",
      "text/html": "<div>\n<style scoped>\n    .dataframe tbody tr th:only-of-type {\n        vertical-align: middle;\n    }\n\n    .dataframe tbody tr th {\n        vertical-align: top;\n    }\n\n    .dataframe thead th {\n        text-align: right;\n    }\n</style>\n<table border=\"1\" class=\"dataframe\">\n  <thead>\n    <tr style=\"text-align: right;\">\n      <th></th>\n      <th>Poster_Link</th>\n      <th>Series_Title</th>\n      <th>Released_Year</th>\n      <th>Certificate</th>\n      <th>Runtime</th>\n      <th>Genre</th>\n      <th>IMDB_Rating</th>\n      <th>Overview</th>\n      <th>Meta_score</th>\n      <th>Director</th>\n      <th>Star1</th>\n      <th>Star2</th>\n      <th>Star3</th>\n      <th>Star4</th>\n      <th>No_of_Votes</th>\n      <th>Gross</th>\n    </tr>\n  </thead>\n  <tbody>\n    <tr>\n      <th>0</th>\n      <td>https://m.media-amazon.com/images/M/MV5BMDFkYT...</td>\n      <td>The Shawshank Redemption</td>\n      <td>1994</td>\n      <td>A</td>\n      <td>142 min</td>\n      <td>Drama</td>\n      <td>9.3</td>\n      <td>Two imprisoned men bond over a number of years...</td>\n      <td>80.0</td>\n      <td>Frank Darabont</td>\n      <td>Tim Robbins</td>\n      <td>Morgan Freeman</td>\n      <td>Bob Gunton</td>\n      <td>William Sadler</td>\n      <td>2343110</td>\n      <td>28,341,469</td>\n    </tr>\n    <tr>\n      <th>1</th>\n      <td>https://m.media-amazon.com/images/M/MV5BM2MyNj...</td>\n      <td>The Godfather</td>\n      <td>1972</td>\n      <td>A</td>\n      <td>175 min</td>\n      <td>Crime, Drama</td>\n      <td>9.2</td>\n      <td>An organized crime dynasty's aging patriarch t...</td>\n      <td>100.0</td>\n      <td>Francis Ford Coppola</td>\n      <td>Marlon Brando</td>\n      <td>Al Pacino</td>\n      <td>James Caan</td>\n      <td>Diane Keaton</td>\n      <td>1620367</td>\n      <td>134,966,411</td>\n    </tr>\n    <tr>\n      <th>2</th>\n      <td>https://m.media-amazon.com/images/M/MV5BMTMxNT...</td>\n      <td>The Dark Knight</td>\n      <td>2008</td>\n      <td>UA</td>\n      <td>152 min</td>\n      <td>Action, Crime, Drama</td>\n      <td>9.0</td>\n      <td>When the menace known as the Joker wreaks havo...</td>\n      <td>84.0</td>\n      <td>Christopher Nolan</td>\n      <td>Christian Bale</td>\n      <td>Heath Ledger</td>\n      <td>Aaron Eckhart</td>\n      <td>Michael Caine</td>\n      <td>2303232</td>\n      <td>534,858,444</td>\n    </tr>\n    <tr>\n      <th>3</th>\n      <td>https://m.media-amazon.com/images/M/MV5BMWMwMG...</td>\n      <td>The Godfather: Part II</td>\n      <td>1974</td>\n      <td>A</td>\n      <td>202 min</td>\n      <td>Crime, Drama</td>\n      <td>9.0</td>\n      <td>The early life and career of Vito Corleone in ...</td>\n      <td>90.0</td>\n      <td>Francis Ford Coppola</td>\n      <td>Al Pacino</td>\n      <td>Robert De Niro</td>\n      <td>Robert Duvall</td>\n      <td>Diane Keaton</td>\n      <td>1129952</td>\n      <td>57,300,000</td>\n    </tr>\n    <tr>\n      <th>4</th>\n      <td>https://m.media-amazon.com/images/M/MV5BMWU4N2...</td>\n      <td>12 Angry Men</td>\n      <td>1957</td>\n      <td>U</td>\n      <td>96 min</td>\n      <td>Crime, Drama</td>\n      <td>9.0</td>\n      <td>A jury holdout attempts to prevent a miscarria...</td>\n      <td>96.0</td>\n      <td>Sidney Lumet</td>\n      <td>Henry Fonda</td>\n      <td>Lee J. Cobb</td>\n      <td>Martin Balsam</td>\n      <td>John Fiedler</td>\n      <td>689845</td>\n      <td>4,360,000</td>\n    </tr>\n    <tr>\n      <th>...</th>\n      <td>...</td>\n      <td>...</td>\n      <td>...</td>\n      <td>...</td>\n      <td>...</td>\n      <td>...</td>\n      <td>...</td>\n      <td>...</td>\n      <td>...</td>\n      <td>...</td>\n      <td>...</td>\n      <td>...</td>\n      <td>...</td>\n      <td>...</td>\n      <td>...</td>\n      <td>...</td>\n    </tr>\n    <tr>\n      <th>995</th>\n      <td>https://m.media-amazon.com/images/M/MV5BNGEwMT...</td>\n      <td>Breakfast at Tiffany's</td>\n      <td>1961</td>\n      <td>A</td>\n      <td>115 min</td>\n      <td>Comedy, Drama, Romance</td>\n      <td>7.6</td>\n      <td>A young New York socialite becomes interested ...</td>\n      <td>76.0</td>\n      <td>Blake Edwards</td>\n      <td>Audrey Hepburn</td>\n      <td>George Peppard</td>\n      <td>Patricia Neal</td>\n      <td>Buddy Ebsen</td>\n      <td>166544</td>\n      <td>NaN</td>\n    </tr>\n    <tr>\n      <th>996</th>\n      <td>https://m.media-amazon.com/images/M/MV5BODk3Yj...</td>\n      <td>Giant</td>\n      <td>1956</td>\n      <td>G</td>\n      <td>201 min</td>\n      <td>Drama, Western</td>\n      <td>7.6</td>\n      <td>Sprawling epic covering the life of a Texas ca...</td>\n      <td>84.0</td>\n      <td>George Stevens</td>\n      <td>Elizabeth Taylor</td>\n      <td>Rock Hudson</td>\n      <td>James Dean</td>\n      <td>Carroll Baker</td>\n      <td>34075</td>\n      <td>NaN</td>\n    </tr>\n    <tr>\n      <th>997</th>\n      <td>https://m.media-amazon.com/images/M/MV5BM2U3Yz...</td>\n      <td>From Here to Eternity</td>\n      <td>1953</td>\n      <td>Passed</td>\n      <td>118 min</td>\n      <td>Drama, Romance, War</td>\n      <td>7.6</td>\n      <td>In Hawaii in 1941, a private is cruelly punish...</td>\n      <td>85.0</td>\n      <td>Fred Zinnemann</td>\n      <td>Burt Lancaster</td>\n      <td>Montgomery Clift</td>\n      <td>Deborah Kerr</td>\n      <td>Donna Reed</td>\n      <td>43374</td>\n      <td>30,500,000</td>\n    </tr>\n    <tr>\n      <th>998</th>\n      <td>https://m.media-amazon.com/images/M/MV5BZTBmMj...</td>\n      <td>Lifeboat</td>\n      <td>1944</td>\n      <td>NaN</td>\n      <td>97 min</td>\n      <td>Drama, War</td>\n      <td>7.6</td>\n      <td>Several survivors of a torpedoed merchant ship...</td>\n      <td>78.0</td>\n      <td>Alfred Hitchcock</td>\n      <td>Tallulah Bankhead</td>\n      <td>John Hodiak</td>\n      <td>Walter Slezak</td>\n      <td>William Bendix</td>\n      <td>26471</td>\n      <td>NaN</td>\n    </tr>\n    <tr>\n      <th>999</th>\n      <td>https://m.media-amazon.com/images/M/MV5BMTY5OD...</td>\n      <td>The 39 Steps</td>\n      <td>1935</td>\n      <td>NaN</td>\n      <td>86 min</td>\n      <td>Crime, Mystery, Thriller</td>\n      <td>7.6</td>\n      <td>A man in London tries to help a counter-espion...</td>\n      <td>93.0</td>\n      <td>Alfred Hitchcock</td>\n      <td>Robert Donat</td>\n      <td>Madeleine Carroll</td>\n      <td>Lucie Mannheim</td>\n      <td>Godfrey Tearle</td>\n      <td>51853</td>\n      <td>NaN</td>\n    </tr>\n  </tbody>\n</table>\n<p>1000 rows × 16 columns</p>\n</div>"
     },
     "metadata": {}
    }
   ]
  },
  {
   "cell_type": "code",
   "metadata": {
    "cell_id": "de5c0476cdb54aa4b0718f34dc6080f4",
    "tags": [],
    "deepnote_to_be_reexecuted": false,
    "source_hash": "43ecafcb",
    "execution_start": 1648994594752,
    "execution_millis": 260,
    "deepnote_cell_type": "code",
    "deepnote_cell_height": 347,
    "deepnote_output_heights": [
     250
    ]
   },
   "source": "df[\"IMDB_Rating\"].hist();",
   "execution_count": null,
   "outputs": [
    {
     "data": {
      "text/plain": "<Figure size 432x288 with 1 Axes>",
      "image/png": "[encoded data removed]"
     },
     "metadata": {
      "needs_background": "light",
      "image/png": {
       "width": 375,
       "height": 248
      }
     },
     "output_type": "display_data"
    }
   ]
  },
  {
   "cell_type": "markdown",
   "source": "add explainations of the histogram",
   "metadata": {
    "cell_id": "925bffb4335c4ef8abe30ac4f8693bd7",
    "tags": [],
    "deepnote_cell_type": "markdown",
    "deepnote_cell_height": 52.390625
   }
  },
  {
   "cell_type": "code",
   "metadata": {
    "cell_id": "1831a738ddee438c9a003d2f577783a2",
    "tags": [],
    "deepnote_to_be_reexecuted": false,
    "source_hash": "14f60b8f",
    "execution_start": 1648994693712,
    "execution_millis": 6,
    "deepnote_cell_type": "code",
    "deepnote_cell_height": 118.1875
   },
   "source": "df.shape # returns the number of rows and columns",
   "execution_count": null,
   "outputs": [
    {
     "output_type": "execute_result",
     "execution_count": 7,
     "data": {
      "text/plain": "(1000, 16)"
     },
     "metadata": {}
    }
   ]
  },
  {
   "cell_type": "markdown",
   "source": "add comment",
   "metadata": {
    "cell_id": "0a538227213145ffa44070cde4214efd",
    "tags": [],
    "deepnote_cell_type": "markdown",
    "deepnote_cell_height": 52.390625
   }
  },
  {
   "cell_type": "code",
   "metadata": {
    "cell_id": "54f5d9f4564b4b1c809f975208e53c22",
    "tags": [],
    "deepnote_to_be_reexecuted": false,
    "source_hash": "de1e323c",
    "execution_start": 1648994849272,
    "execution_millis": 12,
    "deepnote_cell_type": "code",
    "deepnote_cell_height": 533.3125
   },
   "source": "df.info()",
   "execution_count": null,
   "outputs": [
    {
     "name": "stdout",
     "text": "<class 'pandas.core.frame.DataFrame'>\nRangeIndex: 1000 entries, 0 to 999\nData columns (total 16 columns):\n #   Column         Non-Null Count  Dtype  \n---  ------         --------------  -----  \n 0   Poster_Link    1000 non-null   object \n 1   Series_Title   1000 non-null   object \n 2   Released_Year  1000 non-null   object \n 3   Certificate    899 non-null    object \n 4   Runtime        1000 non-null   object \n 5   Genre          1000 non-null   object \n 6   IMDB_Rating    1000 non-null   float64\n 7   Overview       1000 non-null   object \n 8   Meta_score     843 non-null    float64\n 9   Director       1000 non-null   object \n 10  Star1          1000 non-null   object \n 11  Star2          1000 non-null   object \n 12  Star3          1000 non-null   object \n 13  Star4          1000 non-null   object \n 14  No_of_Votes    1000 non-null   int64  \n 15  Gross          831 non-null    object \ndtypes: float64(2), int64(1), object(13)\nmemory usage: 125.1+ KB\n",
     "output_type": "stream"
    }
   ]
  },
  {
   "cell_type": "code",
   "metadata": {
    "cell_id": "cfd1f58435c7478f86454b553c11f5b3",
    "tags": [],
    "deepnote_to_be_reexecuted": false,
    "source_hash": "617b2d80",
    "execution_start": 1648994925904,
    "execution_millis": 15,
    "deepnote_cell_type": "code",
    "deepnote_cell_height": 329.25
   },
   "source": "df[\"Gross\"]",
   "execution_count": null,
   "outputs": [
    {
     "output_type": "execute_result",
     "execution_count": 9,
     "data": {
      "text/plain": "0       28,341,469\n1      134,966,411\n2      534,858,444\n3       57,300,000\n4        4,360,000\n          ...     \n995            NaN\n996            NaN\n997     30,500,000\n998            NaN\n999            NaN\nName: Gross, Length: 1000, dtype: object"
     },
     "metadata": {}
    }
   ]
  },
  {
   "cell_type": "code",
   "metadata": {
    "cell_id": "25a0d442fd484fc3a240578fdbae1ffd",
    "tags": [],
    "deepnote_to_be_reexecuted": false,
    "source_hash": "f88152d9",
    "execution_start": 1648995077907,
    "execution_millis": 42,
    "deepnote_cell_type": "code",
    "deepnote_cell_height": 518
   },
   "source": "df.describe()",
   "execution_count": null,
   "outputs": [
    {
     "output_type": "execute_result",
     "execution_count": 10,
     "data": {
      "application/vnd.deepnote.dataframe.v3+json": {
       "column_count": 3,
       "row_count": 8,
       "columns": [
        {
         "name": "IMDB_Rating",
         "dtype": "float64",
         "stats": {
          "unique_count": 8,
          "nan_count": 0,
          "min": "0.2754912074920095",
          "max": "1000.0",
          "histogram": [
           {
            "bin_start": 0.2754912074920095,
            "bin_end": 100.24794208674281,
            "count": 7
           },
           {
            "bin_start": 100.24794208674281,
            "bin_end": 200.2203929659936,
            "count": 0
           },
           {
            "bin_start": 200.2203929659936,
            "bin_end": 300.1928438452444,
            "count": 0
           },
           {
            "bin_start": 300.1928438452444,
            "bin_end": 400.1652947244952,
            "count": 0
           },
           {
            "bin_start": 400.1652947244952,
            "bin_end": 500.137745603746,
            "count": 0
           },
           {
            "bin_start": 500.137745603746,
            "bin_end": 600.1101964829968,
            "count": 0
           },
           {
            "bin_start": 600.1101964829968,
            "bin_end": 700.0826473622476,
            "count": 0
           },
           {
            "bin_start": 700.0826473622476,
            "bin_end": 800.0550982414984,
            "count": 0
           },
           {
            "bin_start": 800.0550982414984,
            "bin_end": 900.0275491207492,
            "count": 0
           },
           {
            "bin_start": 900.0275491207492,
            "bin_end": 1000,
            "count": 1
           }
          ]
         }
        },
        {
         "name": "Meta_score",
         "dtype": "float64",
         "stats": {
          "unique_count": 8,
          "nan_count": 0,
          "min": "12.376099328602027",
          "max": "843.0",
          "histogram": [
           {
            "bin_start": 12.376099328602027,
            "bin_end": 95.43848939574183,
            "count": 6
           },
           {
            "bin_start": 95.43848939574183,
            "bin_end": 178.50087946288164,
            "count": 1
           },
           {
            "bin_start": 178.50087946288164,
            "bin_end": 261.56326953002144,
            "count": 0
           },
           {
            "bin_start": 261.56326953002144,
            "bin_end": 344.62565959716125,
            "count": 0
           },
           {
            "bin_start": 344.62565959716125,
            "bin_end": 427.68804966430105,
            "count": 0
           },
           {
            "bin_start": 427.68804966430105,
            "bin_end": 510.75043973144085,
            "count": 0
           },
           {
            "bin_start": 510.75043973144085,
            "bin_end": 593.8128297985805,
            "count": 0
           },
           {
            "bin_start": 593.8128297985805,
            "bin_end": 676.8752198657204,
            "count": 0
           },
           {
            "bin_start": 676.8752198657204,
            "bin_end": 759.9376099328603,
            "count": 0
           },
           {
            "bin_start": 759.9376099328603,
            "bin_end": 843,
            "count": 1
           }
          ]
         }
        },
        {
         "name": "No_of_Votes",
         "dtype": "float64",
         "stats": {
          "unique_count": 8,
          "nan_count": 0,
          "min": "1000.0",
          "max": "2343110.0",
          "histogram": [
           {
            "bin_start": 1000,
            "bin_end": 235211,
            "count": 4
           },
           {
            "bin_start": 235211,
            "bin_end": 469422,
            "count": 3
           },
           {
            "bin_start": 469422,
            "bin_end": 703633,
            "count": 0
           },
           {
            "bin_start": 703633,
            "bin_end": 937844,
            "count": 0
           },
           {
            "bin_start": 937844,
            "bin_end": 1172055,
            "count": 0
           },
           {
            "bin_start": 1172055,
            "bin_end": 1406266,
            "count": 0
           },
           {
            "bin_start": 1406266,
            "bin_end": 1640477,
            "count": 0
           },
           {
            "bin_start": 1640477,
            "bin_end": 1874688,
            "count": 0
           },
           {
            "bin_start": 1874688,
            "bin_end": 2108899,
            "count": 0
           },
           {
            "bin_start": 2108899,
            "bin_end": 2343110,
            "count": 1
           }
          ]
         }
        },
        {
         "name": "_deepnote_index_column",
         "dtype": "object"
        }
       ],
       "rows": [
        {
         "IMDB_Rating": 1000,
         "Meta_score": 843,
         "No_of_Votes": 1000,
         "_deepnote_index_column": "count"
        },
        {
         "IMDB_Rating": 7.949299999999999,
         "Meta_score": 77.97153024911032,
         "No_of_Votes": 273692.911,
         "_deepnote_index_column": "mean"
        },
        {
         "IMDB_Rating": 0.2754912074920095,
         "Meta_score": 12.376099328602027,
         "No_of_Votes": 327372.7039341249,
         "_deepnote_index_column": "std"
        },
        {
         "IMDB_Rating": 7.6,
         "Meta_score": 28,
         "No_of_Votes": 25088,
         "_deepnote_index_column": "min"
        },
        {
         "IMDB_Rating": 7.7,
         "Meta_score": 70,
         "No_of_Votes": 55526.25,
         "_deepnote_index_column": "25%"
        },
        {
         "IMDB_Rating": 7.9,
         "Meta_score": 79,
         "No_of_Votes": 138548.5,
         "_deepnote_index_column": "50%"
        },
        {
         "IMDB_Rating": 8.1,
         "Meta_score": 87,
         "No_of_Votes": 374161.25,
         "_deepnote_index_column": "75%"
        },
        {
         "IMDB_Rating": 9.3,
         "Meta_score": 100,
         "No_of_Votes": 2343110,
         "_deepnote_index_column": "max"
        }
       ]
      },
      "text/plain": "       IMDB_Rating  Meta_score   No_of_Votes\ncount  1000.000000  843.000000  1.000000e+03\nmean      7.949300   77.971530  2.736929e+05\nstd       0.275491   12.376099  3.273727e+05\nmin       7.600000   28.000000  2.508800e+04\n25%       7.700000   70.000000  5.552625e+04\n50%       7.900000   79.000000  1.385485e+05\n75%       8.100000   87.000000  3.741612e+05\nmax       9.300000  100.000000  2.343110e+06",
      "text/html": "<div>\n<style scoped>\n    .dataframe tbody tr th:only-of-type {\n        vertical-align: middle;\n    }\n\n    .dataframe tbody tr th {\n        vertical-align: top;\n    }\n\n    .dataframe thead th {\n        text-align: right;\n    }\n</style>\n<table border=\"1\" class=\"dataframe\">\n  <thead>\n    <tr style=\"text-align: right;\">\n      <th></th>\n      <th>IMDB_Rating</th>\n      <th>Meta_score</th>\n      <th>No_of_Votes</th>\n    </tr>\n  </thead>\n  <tbody>\n    <tr>\n      <th>count</th>\n      <td>1000.000000</td>\n      <td>843.000000</td>\n      <td>1.000000e+03</td>\n    </tr>\n    <tr>\n      <th>mean</th>\n      <td>7.949300</td>\n      <td>77.971530</td>\n      <td>2.736929e+05</td>\n    </tr>\n    <tr>\n      <th>std</th>\n      <td>0.275491</td>\n      <td>12.376099</td>\n      <td>3.273727e+05</td>\n    </tr>\n    <tr>\n      <th>min</th>\n      <td>7.600000</td>\n      <td>28.000000</td>\n      <td>2.508800e+04</td>\n    </tr>\n    <tr>\n      <th>25%</th>\n      <td>7.700000</td>\n      <td>70.000000</td>\n      <td>5.552625e+04</td>\n    </tr>\n    <tr>\n      <th>50%</th>\n      <td>7.900000</td>\n      <td>79.000000</td>\n      <td>1.385485e+05</td>\n    </tr>\n    <tr>\n      <th>75%</th>\n      <td>8.100000</td>\n      <td>87.000000</td>\n      <td>3.741612e+05</td>\n    </tr>\n    <tr>\n      <th>max</th>\n      <td>9.300000</td>\n      <td>100.000000</td>\n      <td>2.343110e+06</td>\n    </tr>\n  </tbody>\n</table>\n</div>"
     },
     "metadata": {}
    }
   ]
  },
  {
   "cell_type": "code",
   "metadata": {
    "cell_id": "facf5a88b9d84198bac27d3a93f25f78",
    "tags": [],
    "deepnote_to_be_reexecuted": false,
    "source_hash": "3cae21f2",
    "execution_start": 1648995247649,
    "execution_millis": 3,
    "deepnote_cell_type": "code",
    "deepnote_cell_height": 81
   },
   "source": "df[\"Gross\"] = df['Gross'].str.replace(\",\",\"\")",
   "execution_count": null,
   "outputs": []
  },
  {
   "cell_type": "code",
   "metadata": {
    "cell_id": "2f663f6ca5bc45b3bbeeb02d8d749ed5",
    "tags": [],
    "deepnote_to_be_reexecuted": false,
    "source_hash": "f804c160",
    "execution_start": 1648995259442,
    "execution_millis": 66,
    "deepnote_cell_type": "code",
    "deepnote_cell_height": 600
   },
   "source": "df",
   "execution_count": null,
   "outputs": [
    {
     "output_type": "execute_result",
     "execution_count": 13,
     "data": {
      "application/vnd.deepnote.dataframe.v3+json": {
       "column_count": 16,
       "row_count": 1000,
       "columns": [
        {
         "name": "Poster_Link",
         "dtype": "object",
         "stats": {
          "unique_count": 1000,
          "nan_count": 0,
          "categories": [
           {
            "name": "https://m.media-amazon.com/images/M/MV5BMDFkYTc0MGEtZmNhMC00ZDIzLWFmNTEtODM1ZmRlYWMwMWFmXkEyXkFqcGdeQXVyMTMxODk2OTU@._V1_UX67_CR0,0,67,98_AL_.jpg",
            "count": 1
           },
           {
            "name": "https://m.media-amazon.com/images/M/MV5BM2MyNjYxNmUtYTAwNi00MTYxLWJmNWYtYzZlODY3ZTk3OTFlXkEyXkFqcGdeQXVyNzkwMjQ5NzM@._V1_UY98_CR1,0,67,98_AL_.jpg",
            "count": 1
           },
           {
            "name": "998 others",
            "count": 998
           }
          ]
         }
        },
        {
         "name": "Series_Title",
         "dtype": "object",
         "stats": {
          "unique_count": 999,
          "nan_count": 0,
          "categories": [
           {
            "name": "Drishyam",
            "count": 2
           },
           {
            "name": "The Shawshank Redemption",
            "count": 1
           },
           {
            "name": "997 others",
            "count": 997
           }
          ]
         }
        },
        {
         "name": "Released_Year",
         "dtype": "object",
         "stats": {
          "unique_count": 100,
          "nan_count": 0,
          "categories": [
           {
            "name": "2014",
            "count": 32
           },
           {
            "name": "2004",
            "count": 31
           },
           {
            "name": "98 others",
            "count": 937
           }
          ]
         }
        },
        {
         "name": "Certificate",
         "dtype": "object",
         "stats": {
          "unique_count": 16,
          "nan_count": 101,
          "categories": [
           {
            "name": "U",
            "count": 234
           },
           {
            "name": "15 others",
            "count": 665
           },
           {
            "name": "Missing",
            "count": 101
           }
          ]
         }
        },
        {
         "name": "Runtime",
         "dtype": "object",
         "stats": {
          "unique_count": 140,
          "nan_count": 0,
          "categories": [
           {
            "name": "130 min",
            "count": 23
           },
           {
            "name": "100 min",
            "count": 23
           },
           {
            "name": "138 others",
            "count": 954
           }
          ]
         }
        },
        {
         "name": "Genre",
         "dtype": "object",
         "stats": {
          "unique_count": 202,
          "nan_count": 0,
          "categories": [
           {
            "name": "Drama",
            "count": 85
           },
           {
            "name": "Drama, Romance",
            "count": 37
           },
           {
            "name": "200 others",
            "count": 878
           }
          ]
         }
        },
        {
         "name": "IMDB_Rating",
         "dtype": "float64",
         "stats": {
          "unique_count": 17,
          "nan_count": 0,
          "min": "7.6",
          "max": "9.3",
          "histogram": [
           {
            "bin_start": 7.6,
            "bin_end": 7.77,
            "count": 280
           },
           {
            "bin_start": 7.77,
            "bin_end": 7.9399999999999995,
            "count": 257
           },
           {
            "bin_start": 7.9399999999999995,
            "bin_end": 8.11,
            "count": 268
           },
           {
            "bin_start": 8.11,
            "bin_end": 8.28,
            "count": 67
           },
           {
            "bin_start": 8.28,
            "bin_end": 8.45,
            "count": 75
           },
           {
            "bin_start": 8.45,
            "bin_end": 8.620000000000001,
            "count": 35
           },
           {
            "bin_start": 8.620000000000001,
            "bin_end": 8.790000000000001,
            "count": 5
           },
           {
            "bin_start": 8.790000000000001,
            "bin_end": 8.96,
            "count": 8
           },
           {
            "bin_start": 8.96,
            "bin_end": 9.13,
            "count": 3
           },
           {
            "bin_start": 9.13,
            "bin_end": 9.3,
            "count": 2
           }
          ]
         }
        },
        {
         "name": "Overview",
         "dtype": "object",
         "stats": {
          "unique_count": 1000,
          "nan_count": 0,
          "categories": [
           {
            "name": "Two imprisoned men bond over a number of years, finding solace and eventual redemption through acts of common decency.",
            "count": 1
           },
           {
            "name": "An organized crime dynasty's aging patriarch transfers control of his clandestine empire to his reluctant son.",
            "count": 1
           },
           {
            "name": "998 others",
            "count": 998
           }
          ]
         }
        },
        {
         "name": "Meta_score",
         "dtype": "float64",
         "stats": {
          "unique_count": 63,
          "nan_count": 157,
          "min": "28.0",
          "max": "100.0",
          "histogram": [
           {
            "bin_start": 28,
            "bin_end": 35.2,
            "count": 3
           },
           {
            "bin_start": 35.2,
            "bin_end": 42.4,
            "count": 3
           },
           {
            "bin_start": 42.4,
            "bin_end": 49.6,
            "count": 13
           },
           {
            "bin_start": 49.6,
            "bin_end": 56.8,
            "count": 27
           },
           {
            "bin_start": 56.8,
            "bin_end": 64,
            "count": 53
           },
           {
            "bin_start": 64,
            "bin_end": 71.2,
            "count": 131
           },
           {
            "bin_start": 71.2,
            "bin_end": 78.4,
            "count": 181
           },
           {
            "bin_start": 78.4,
            "bin_end": 85.6,
            "count": 182
           },
           {
            "bin_start": 85.6,
            "bin_end": 92.8,
            "count": 150
           },
           {
            "bin_start": 92.8,
            "bin_end": 100,
            "count": 100
           }
          ]
         }
        },
        {
         "name": "Director",
         "dtype": "object",
         "stats": {
          "unique_count": 548,
          "nan_count": 0,
          "categories": [
           {
            "name": "Alfred Hitchcock",
            "count": 14
           },
           {
            "name": "Steven Spielberg",
            "count": 13
           },
           {
            "name": "546 others",
            "count": 973
           }
          ]
         }
        },
        {
         "name": "Star1",
         "dtype": "object",
         "stats": {
          "unique_count": 660,
          "nan_count": 0,
          "categories": [
           {
            "name": "Tom Hanks",
            "count": 12
           },
           {
            "name": "Robert De Niro",
            "count": 11
           },
           {
            "name": "658 others",
            "count": 977
           }
          ]
         }
        },
        {
         "name": "Star2",
         "dtype": "object",
         "stats": {
          "unique_count": 841,
          "nan_count": 0,
          "categories": [
           {
            "name": "Emma Watson",
            "count": 7
           },
           {
            "name": "Matt Damon",
            "count": 5
           },
           {
            "name": "839 others",
            "count": 988
           }
          ]
         }
        },
        {
         "name": "Star3",
         "dtype": "object",
         "stats": {
          "unique_count": 891,
          "nan_count": 0,
          "categories": [
           {
            "name": "Rupert Grint",
            "count": 5
           },
           {
            "name": "Samuel L. Jackson",
            "count": 4
           },
           {
            "name": "889 others",
            "count": 991
           }
          ]
         }
        },
        {
         "name": "Star4",
         "dtype": "object",
         "stats": {
          "unique_count": 939,
          "nan_count": 0,
          "categories": [
           {
            "name": "Michael Caine",
            "count": 4
           },
           {
            "name": "Mark Ruffalo",
            "count": 3
           },
           {
            "name": "937 others",
            "count": 993
           }
          ]
         }
        },
        {
         "name": "No_of_Votes",
         "dtype": "int64",
         "stats": {
          "unique_count": 999,
          "nan_count": 0,
          "min": "25088",
          "max": "2343110",
          "histogram": [
           {
            "bin_start": 25088,
            "bin_end": 256890.2,
            "count": 663
           },
           {
            "bin_start": 256890.2,
            "bin_end": 488692.4,
            "count": 150
           },
           {
            "bin_start": 488692.4,
            "bin_end": 720494.6000000001,
            "count": 94
           },
           {
            "bin_start": 720494.6000000001,
            "bin_end": 952296.8,
            "count": 47
           },
           {
            "bin_start": 952296.8,
            "bin_end": 1184099,
            "count": 20
           },
           {
            "bin_start": 1184099,
            "bin_end": 1415901.2000000002,
            "count": 12
           },
           {
            "bin_start": 1415901.2000000002,
            "bin_end": 1647703.4000000001,
            "count": 6
           },
           {
            "bin_start": 1647703.4000000001,
            "bin_end": 1879505.6,
            "count": 5
           },
           {
            "bin_start": 1879505.6,
            "bin_end": 2111307.8,
            "count": 1
           },
           {
            "bin_start": 2111307.8,
            "bin_end": 2343110,
            "count": 2
           }
          ]
         }
        },
        {
         "name": "Gross",
         "dtype": "object",
         "stats": {
          "unique_count": 823,
          "nan_count": 169,
          "categories": [
           {
            "name": "4360000",
            "count": 5
           },
           {
            "name": "822 others",
            "count": 826
           },
           {
            "name": "Missing",
            "count": 169
           }
          ]
         }
        },
        {
         "name": "_deepnote_index_column",
         "dtype": "int64"
        }
       ],
       "rows": [
        {
         "Poster_Link": "https://m.media-amazon.com/images/M/MV5BMDFkYTc0MGEtZmNhMC00ZDIzLWFmNTEtODM1ZmRlYWMwMWFmXkEyXkFqcGdeQXVyMTMxODk2OTU@._V1_UX67_CR0,0,67,98_AL_.jpg",
         "Series_Title": "The Shawshank Redemption",
         "Released_Year": "1994",
         "Certificate": "A",
         "Runtime": "142 min",
         "Genre": "Drama",
         "IMDB_Rating": 9.3,
         "Overview": "Two imprisoned men bond over a number of years, finding solace and eventual redemption through acts of common decency.",
         "Meta_score": 80,
         "Director": "Frank Darabont",
         "Star1": "Tim Robbins",
         "Star2": "Morgan Freeman",
         "Star3": "Bob Gunton",
         "Star4": "William Sadler",
         "No_of_Votes": 2343110,
         "Gross": "28341469",
         "_deepnote_index_column": 0
        },
        {
         "Poster_Link": "https://m.media-amazon.com/images/M/MV5BM2MyNjYxNmUtYTAwNi00MTYxLWJmNWYtYzZlODY3ZTk3OTFlXkEyXkFqcGdeQXVyNzkwMjQ5NzM@._V1_UY98_CR1,0,67,98_AL_.jpg",
         "Series_Title": "The Godfather",
         "Released_Year": "1972",
         "Certificate": "A",
         "Runtime": "175 min",
         "Genre": "Crime, Drama",
         "IMDB_Rating": 9.2,
         "Overview": "An organized crime dynasty's aging patriarch transfers control of his clandestine empire to his reluctant son.",
         "Meta_score": 100,
         "Director": "Francis Ford Coppola",
         "Star1": "Marlon Brando",
         "Star2": "Al Pacino",
         "Star3": "James Caan",
         "Star4": "Diane Keaton",
         "No_of_Votes": 1620367,
         "Gross": "134966411",
         "_deepnote_index_column": 1
        },
        {
         "Poster_Link": "https://m.media-amazon.com/images/M/MV5BMTMxNTMwODM0NF5BMl5BanBnXkFtZTcwODAyMTk2Mw@@._V1_UX67_CR0,0,67,98_AL_.jpg",
         "Series_Title": "The Dark Knight",
         "Released_Year": "2008",
         "Certificate": "UA",
         "Runtime": "152 min",
         "Genre": "Action, Crime, Drama",
         "IMDB_Rating": 9,
         "Overview": "When the menace known as the Joker wreaks havoc and chaos on the people of Gotham, Batman must accept one of the greatest psychological and physical tests of his ability to fight injustice.",
         "Meta_score": 84,
         "Director": "Christopher Nolan",
         "Star1": "Christian Bale",
         "Star2": "Heath Ledger",
         "Star3": "Aaron Eckhart",
         "Star4": "Michael Caine",
         "No_of_Votes": 2303232,
         "Gross": "534858444",
         "_deepnote_index_column": 2
        },
        {
         "Poster_Link": "https://m.media-amazon.com/images/M/MV5BMWMwMGQzZTItY2JlNC00OWZiLWIyMDctNDk2ZDQ2YjRjMWQ0XkEyXkFqcGdeQXVyNzkwMjQ5NzM@._V1_UY98_CR1,0,67,98_AL_.jpg",
         "Series_Title": "The Godfather: Part II",
         "Released_Year": "1974",
         "Certificate": "A",
         "Runtime": "202 min",
         "Genre": "Crime, Drama",
         "IMDB_Rating": 9,
         "Overview": "The early life and career of Vito Corleone in 1920s New York City is portrayed, while his son, Michael, expands and tightens his grip on the family crime syndicate.",
         "Meta_score": 90,
         "Director": "Francis Ford Coppola",
         "Star1": "Al Pacino",
         "Star2": "Robert De Niro",
         "Star3": "Robert Duvall",
         "Star4": "Diane Keaton",
         "No_of_Votes": 1129952,
         "Gross": "57300000",
         "_deepnote_index_column": 3
        },
        {
         "Poster_Link": "https://m.media-amazon.com/images/M/MV5BMWU4N2FjNzYtNTVkNC00NzQ0LTg0MjAtYTJlMjFhNGUxZDFmXkEyXkFqcGdeQXVyNjc1NTYyMjg@._V1_UX67_CR0,0,67,98_AL_.jpg",
         "Series_Title": "12 Angry Men",
         "Released_Year": "1957",
         "Certificate": "U",
         "Runtime": "96 min",
         "Genre": "Crime, Drama",
         "IMDB_Rating": 9,
         "Overview": "A jury holdout attempts to prevent a miscarriage of justice by forcing his colleagues to reconsider the evidence.",
         "Meta_score": 96,
         "Director": "Sidney Lumet",
         "Star1": "Henry Fonda",
         "Star2": "Lee J. Cobb",
         "Star3": "Martin Balsam",
         "Star4": "John Fiedler",
         "No_of_Votes": 689845,
         "Gross": "4360000",
         "_deepnote_index_column": 4
        },
        {
         "Poster_Link": "https://m.media-amazon.com/images/M/MV5BNzA5ZDNlZWMtM2NhNS00NDJjLTk4NDItYTRmY2EwMWZlMTY3XkEyXkFqcGdeQXVyNzkwMjQ5NzM@._V1_UX67_CR0,0,67,98_AL_.jpg",
         "Series_Title": "The Lord of the Rings: The Return of the King",
         "Released_Year": "2003",
         "Certificate": "U",
         "Runtime": "201 min",
         "Genre": "Action, Adventure, Drama",
         "IMDB_Rating": 8.9,
         "Overview": "Gandalf and Aragorn lead the World of Men against Sauron's army to draw his gaze from Frodo and Sam as they approach Mount Doom with the One Ring.",
         "Meta_score": 94,
         "Director": "Peter Jackson",
         "Star1": "Elijah Wood",
         "Star2": "Viggo Mortensen",
         "Star3": "Ian McKellen",
         "Star4": "Orlando Bloom",
         "No_of_Votes": 1642758,
         "Gross": "377845905",
         "_deepnote_index_column": 5
        },
        {
         "Poster_Link": "https://m.media-amazon.com/images/M/MV5BNGNhMDIzZTUtNTBlZi00MTRlLWFjM2ItYzViMjE3YzI5MjljXkEyXkFqcGdeQXVyNzkwMjQ5NzM@._V1_UY98_CR0,0,67,98_AL_.jpg",
         "Series_Title": "Pulp Fiction",
         "Released_Year": "1994",
         "Certificate": "A",
         "Runtime": "154 min",
         "Genre": "Crime, Drama",
         "IMDB_Rating": 8.9,
         "Overview": "The lives of two mob hitmen, a boxer, a gangster and his wife, and a pair of diner bandits intertwine in four tales of violence and redemption.",
         "Meta_score": 94,
         "Director": "Quentin Tarantino",
         "Star1": "John Travolta",
         "Star2": "Uma Thurman",
         "Star3": "Samuel L. Jackson",
         "Star4": "Bruce Willis",
         "No_of_Votes": 1826188,
         "Gross": "107928762",
         "_deepnote_index_column": 6
        },
        {
         "Poster_Link": "https://m.media-amazon.com/images/M/MV5BNDE4OTMxMTctNmRhYy00NWE2LTg3YzItYTk3M2UwOTU5Njg4XkEyXkFqcGdeQXVyNjU0OTQ0OTY@._V1_UX67_CR0,0,67,98_AL_.jpg",
         "Series_Title": "Schindler's List",
         "Released_Year": "1993",
         "Certificate": "A",
         "Runtime": "195 min",
         "Genre": "Biography, Drama, History",
         "IMDB_Rating": 8.9,
         "Overview": "In German-occupied Poland during World War II, industrialist Oskar Schindler gradually becomes concerned for his Jewish workforce after witnessing their persecution by the Nazis.",
         "Meta_score": 94,
         "Director": "Steven Spielberg",
         "Star1": "Liam Neeson",
         "Star2": "Ralph Fiennes",
         "Star3": "Ben Kingsley",
         "Star4": "Caroline Goodall",
         "No_of_Votes": 1213505,
         "Gross": "96898818",
         "_deepnote_index_column": 7
        },
        {
         "Poster_Link": "https://m.media-amazon.com/images/M/MV5BMjAxMzY3NjcxNF5BMl5BanBnXkFtZTcwNTI5OTM0Mw@@._V1_UX67_CR0,0,67,98_AL_.jpg",
         "Series_Title": "Inception",
         "Released_Year": "2010",
         "Certificate": "UA",
         "Runtime": "148 min",
         "Genre": "Action, Adventure, Sci-Fi",
         "IMDB_Rating": 8.8,
         "Overview": "A thief who steals corporate secrets through the use of dream-sharing technology is given the inverse task of planting an idea into the mind of a C.E.O.",
         "Meta_score": 74,
         "Director": "Christopher Nolan",
         "Star1": "Leonardo DiCaprio",
         "Star2": "Joseph Gordon-Levitt",
         "Star3": "Elliot Page",
         "Star4": "Ken Watanabe",
         "No_of_Votes": 2067042,
         "Gross": "292576195",
         "_deepnote_index_column": 8
        },
        {
         "Poster_Link": "https://m.media-amazon.com/images/M/MV5BMmEzNTkxYjQtZTc0MC00YTVjLTg5ZTEtZWMwOWVlYzY0NWIwXkEyXkFqcGdeQXVyNzkwMjQ5NzM@._V1_UX67_CR0,0,67,98_AL_.jpg",
         "Series_Title": "Fight Club",
         "Released_Year": "1999",
         "Certificate": "A",
         "Runtime": "139 min",
         "Genre": "Drama",
         "IMDB_Rating": 8.8,
         "Overview": "An insomniac office worker and a devil-may-care soapmaker form an underground fight club that evolves into something much, much more.",
         "Meta_score": 66,
         "Director": "David Fincher",
         "Star1": "Brad Pitt",
         "Star2": "Edward Norton",
         "Star3": "Meat Loaf",
         "Star4": "Zach Grenier",
         "No_of_Votes": 1854740,
         "Gross": "37030102",
         "_deepnote_index_column": 9
        }
       ]
      },
      "text/plain": "                                           Poster_Link  \\\n0    https://m.media-amazon.com/images/M/MV5BMDFkYT...   \n1    https://m.media-amazon.com/images/M/MV5BM2MyNj...   \n2    https://m.media-amazon.com/images/M/MV5BMTMxNT...   \n3    https://m.media-amazon.com/images/M/MV5BMWMwMG...   \n4    https://m.media-amazon.com/images/M/MV5BMWU4N2...   \n..                                                 ...   \n995  https://m.media-amazon.com/images/M/MV5BNGEwMT...   \n996  https://m.media-amazon.com/images/M/MV5BODk3Yj...   \n997  https://m.media-amazon.com/images/M/MV5BM2U3Yz...   \n998  https://m.media-amazon.com/images/M/MV5BZTBmMj...   \n999  https://m.media-amazon.com/images/M/MV5BMTY5OD...   \n\n                 Series_Title Released_Year Certificate  Runtime  \\\n0    The Shawshank Redemption          1994           A  142 min   \n1               The Godfather          1972           A  175 min   \n2             The Dark Knight          2008          UA  152 min   \n3      The Godfather: Part II          1974           A  202 min   \n4                12 Angry Men          1957           U   96 min   \n..                        ...           ...         ...      ...   \n995    Breakfast at Tiffany's          1961           A  115 min   \n996                     Giant          1956           G  201 min   \n997     From Here to Eternity          1953      Passed  118 min   \n998                  Lifeboat          1944         NaN   97 min   \n999              The 39 Steps          1935         NaN   86 min   \n\n                        Genre  IMDB_Rating  \\\n0                       Drama          9.3   \n1                Crime, Drama          9.2   \n2        Action, Crime, Drama          9.0   \n3                Crime, Drama          9.0   \n4                Crime, Drama          9.0   \n..                        ...          ...   \n995    Comedy, Drama, Romance          7.6   \n996            Drama, Western          7.6   \n997       Drama, Romance, War          7.6   \n998                Drama, War          7.6   \n999  Crime, Mystery, Thriller          7.6   \n\n                                              Overview  Meta_score  \\\n0    Two imprisoned men bond over a number of years...        80.0   \n1    An organized crime dynasty's aging patriarch t...       100.0   \n2    When the menace known as the Joker wreaks havo...        84.0   \n3    The early life and career of Vito Corleone in ...        90.0   \n4    A jury holdout attempts to prevent a miscarria...        96.0   \n..                                                 ...         ...   \n995  A young New York socialite becomes interested ...        76.0   \n996  Sprawling epic covering the life of a Texas ca...        84.0   \n997  In Hawaii in 1941, a private is cruelly punish...        85.0   \n998  Several survivors of a torpedoed merchant ship...        78.0   \n999  A man in London tries to help a counter-espion...        93.0   \n\n                 Director              Star1              Star2  \\\n0          Frank Darabont        Tim Robbins     Morgan Freeman   \n1    Francis Ford Coppola      Marlon Brando          Al Pacino   \n2       Christopher Nolan     Christian Bale       Heath Ledger   \n3    Francis Ford Coppola          Al Pacino     Robert De Niro   \n4            Sidney Lumet        Henry Fonda        Lee J. Cobb   \n..                    ...                ...                ...   \n995         Blake Edwards     Audrey Hepburn     George Peppard   \n996        George Stevens   Elizabeth Taylor        Rock Hudson   \n997        Fred Zinnemann     Burt Lancaster   Montgomery Clift   \n998      Alfred Hitchcock  Tallulah Bankhead        John Hodiak   \n999      Alfred Hitchcock       Robert Donat  Madeleine Carroll   \n\n              Star3           Star4  No_of_Votes      Gross  \n0        Bob Gunton  William Sadler      2343110   28341469  \n1        James Caan    Diane Keaton      1620367  134966411  \n2     Aaron Eckhart   Michael Caine      2303232  534858444  \n3     Robert Duvall    Diane Keaton      1129952   57300000  \n4     Martin Balsam    John Fiedler       689845    4360000  \n..              ...             ...          ...        ...  \n995   Patricia Neal     Buddy Ebsen       166544        NaN  \n996      James Dean   Carroll Baker        34075        NaN  \n997    Deborah Kerr      Donna Reed        43374   30500000  \n998   Walter Slezak  William Bendix        26471        NaN  \n999  Lucie Mannheim  Godfrey Tearle        51853        NaN  \n\n[1000 rows x 16 columns]",
      "text/html": "<div>\n<style scoped>\n    .dataframe tbody tr th:only-of-type {\n        vertical-align: middle;\n    }\n\n    .dataframe tbody tr th {\n        vertical-align: top;\n    }\n\n    .dataframe thead th {\n        text-align: right;\n    }\n</style>\n<table border=\"1\" class=\"dataframe\">\n  <thead>\n    <tr style=\"text-align: right;\">\n      <th></th>\n      <th>Poster_Link</th>\n      <th>Series_Title</th>\n      <th>Released_Year</th>\n      <th>Certificate</th>\n      <th>Runtime</th>\n      <th>Genre</th>\n      <th>IMDB_Rating</th>\n      <th>Overview</th>\n      <th>Meta_score</th>\n      <th>Director</th>\n      <th>Star1</th>\n      <th>Star2</th>\n      <th>Star3</th>\n      <th>Star4</th>\n      <th>No_of_Votes</th>\n      <th>Gross</th>\n    </tr>\n  </thead>\n  <tbody>\n    <tr>\n      <th>0</th>\n      <td>https://m.media-amazon.com/images/M/MV5BMDFkYT...</td>\n      <td>The Shawshank Redemption</td>\n      <td>1994</td>\n      <td>A</td>\n      <td>142 min</td>\n      <td>Drama</td>\n      <td>9.3</td>\n      <td>Two imprisoned men bond over a number of years...</td>\n      <td>80.0</td>\n      <td>Frank Darabont</td>\n      <td>Tim Robbins</td>\n      <td>Morgan Freeman</td>\n      <td>Bob Gunton</td>\n      <td>William Sadler</td>\n      <td>2343110</td>\n      <td>28341469</td>\n    </tr>\n    <tr>\n      <th>1</th>\n      <td>https://m.media-amazon.com/images/M/MV5BM2MyNj...</td>\n      <td>The Godfather</td>\n      <td>1972</td>\n      <td>A</td>\n      <td>175 min</td>\n      <td>Crime, Drama</td>\n      <td>9.2</td>\n      <td>An organized crime dynasty's aging patriarch t...</td>\n      <td>100.0</td>\n      <td>Francis Ford Coppola</td>\n      <td>Marlon Brando</td>\n      <td>Al Pacino</td>\n      <td>James Caan</td>\n      <td>Diane Keaton</td>\n      <td>1620367</td>\n      <td>134966411</td>\n    </tr>\n    <tr>\n      <th>2</th>\n      <td>https://m.media-amazon.com/images/M/MV5BMTMxNT...</td>\n      <td>The Dark Knight</td>\n      <td>2008</td>\n      <td>UA</td>\n      <td>152 min</td>\n      <td>Action, Crime, Drama</td>\n      <td>9.0</td>\n      <td>When the menace known as the Joker wreaks havo...</td>\n      <td>84.0</td>\n      <td>Christopher Nolan</td>\n      <td>Christian Bale</td>\n      <td>Heath Ledger</td>\n      <td>Aaron Eckhart</td>\n      <td>Michael Caine</td>\n      <td>2303232</td>\n      <td>534858444</td>\n    </tr>\n    <tr>\n      <th>3</th>\n      <td>https://m.media-amazon.com/images/M/MV5BMWMwMG...</td>\n      <td>The Godfather: Part II</td>\n      <td>1974</td>\n      <td>A</td>\n      <td>202 min</td>\n      <td>Crime, Drama</td>\n      <td>9.0</td>\n      <td>The early life and career of Vito Corleone in ...</td>\n      <td>90.0</td>\n      <td>Francis Ford Coppola</td>\n      <td>Al Pacino</td>\n      <td>Robert De Niro</td>\n      <td>Robert Duvall</td>\n      <td>Diane Keaton</td>\n      <td>1129952</td>\n      <td>57300000</td>\n    </tr>\n    <tr>\n      <th>4</th>\n      <td>https://m.media-amazon.com/images/M/MV5BMWU4N2...</td>\n      <td>12 Angry Men</td>\n      <td>1957</td>\n      <td>U</td>\n      <td>96 min</td>\n      <td>Crime, Drama</td>\n      <td>9.0</td>\n      <td>A jury holdout attempts to prevent a miscarria...</td>\n      <td>96.0</td>\n      <td>Sidney Lumet</td>\n      <td>Henry Fonda</td>\n      <td>Lee J. Cobb</td>\n      <td>Martin Balsam</td>\n      <td>John Fiedler</td>\n      <td>689845</td>\n      <td>4360000</td>\n    </tr>\n    <tr>\n      <th>...</th>\n      <td>...</td>\n      <td>...</td>\n      <td>...</td>\n      <td>...</td>\n      <td>...</td>\n      <td>...</td>\n      <td>...</td>\n      <td>...</td>\n      <td>...</td>\n      <td>...</td>\n      <td>...</td>\n      <td>...</td>\n      <td>...</td>\n      <td>...</td>\n      <td>...</td>\n      <td>...</td>\n    </tr>\n    <tr>\n      <th>995</th>\n      <td>https://m.media-amazon.com/images/M/MV5BNGEwMT...</td>\n      <td>Breakfast at Tiffany's</td>\n      <td>1961</td>\n      <td>A</td>\n      <td>115 min</td>\n      <td>Comedy, Drama, Romance</td>\n      <td>7.6</td>\n      <td>A young New York socialite becomes interested ...</td>\n      <td>76.0</td>\n      <td>Blake Edwards</td>\n      <td>Audrey Hepburn</td>\n      <td>George Peppard</td>\n      <td>Patricia Neal</td>\n      <td>Buddy Ebsen</td>\n      <td>166544</td>\n      <td>NaN</td>\n    </tr>\n    <tr>\n      <th>996</th>\n      <td>https://m.media-amazon.com/images/M/MV5BODk3Yj...</td>\n      <td>Giant</td>\n      <td>1956</td>\n      <td>G</td>\n      <td>201 min</td>\n      <td>Drama, Western</td>\n      <td>7.6</td>\n      <td>Sprawling epic covering the life of a Texas ca...</td>\n      <td>84.0</td>\n      <td>George Stevens</td>\n      <td>Elizabeth Taylor</td>\n      <td>Rock Hudson</td>\n      <td>James Dean</td>\n      <td>Carroll Baker</td>\n      <td>34075</td>\n      <td>NaN</td>\n    </tr>\n    <tr>\n      <th>997</th>\n      <td>https://m.media-amazon.com/images/M/MV5BM2U3Yz...</td>\n      <td>From Here to Eternity</td>\n      <td>1953</td>\n      <td>Passed</td>\n      <td>118 min</td>\n      <td>Drama, Romance, War</td>\n      <td>7.6</td>\n      <td>In Hawaii in 1941, a private is cruelly punish...</td>\n      <td>85.0</td>\n      <td>Fred Zinnemann</td>\n      <td>Burt Lancaster</td>\n      <td>Montgomery Clift</td>\n      <td>Deborah Kerr</td>\n      <td>Donna Reed</td>\n      <td>43374</td>\n      <td>30500000</td>\n    </tr>\n    <tr>\n      <th>998</th>\n      <td>https://m.media-amazon.com/images/M/MV5BZTBmMj...</td>\n      <td>Lifeboat</td>\n      <td>1944</td>\n      <td>NaN</td>\n      <td>97 min</td>\n      <td>Drama, War</td>\n      <td>7.6</td>\n      <td>Several survivors of a torpedoed merchant ship...</td>\n      <td>78.0</td>\n      <td>Alfred Hitchcock</td>\n      <td>Tallulah Bankhead</td>\n      <td>John Hodiak</td>\n      <td>Walter Slezak</td>\n      <td>William Bendix</td>\n      <td>26471</td>\n      <td>NaN</td>\n    </tr>\n    <tr>\n      <th>999</th>\n      <td>https://m.media-amazon.com/images/M/MV5BMTY5OD...</td>\n      <td>The 39 Steps</td>\n      <td>1935</td>\n      <td>NaN</td>\n      <td>86 min</td>\n      <td>Crime, Mystery, Thriller</td>\n      <td>7.6</td>\n      <td>A man in London tries to help a counter-espion...</td>\n      <td>93.0</td>\n      <td>Alfred Hitchcock</td>\n      <td>Robert Donat</td>\n      <td>Madeleine Carroll</td>\n      <td>Lucie Mannheim</td>\n      <td>Godfrey Tearle</td>\n      <td>51853</td>\n      <td>NaN</td>\n    </tr>\n  </tbody>\n</table>\n<p>1000 rows × 16 columns</p>\n</div>"
     },
     "metadata": {}
    }
   ]
  },
  {
   "cell_type": "code",
   "metadata": {
    "cell_id": "8829272cc2f8458a910407fff12aba91",
    "tags": [],
    "deepnote_to_be_reexecuted": false,
    "source_hash": "33fa8d5a",
    "execution_start": 1648995347559,
    "execution_millis": 3,
    "deepnote_cell_type": "code",
    "deepnote_cell_height": 81
   },
   "source": "df[\"Gross\"] = df[\"Gross\"].astype(float)",
   "execution_count": null,
   "outputs": []
  },
  {
   "cell_type": "code",
   "metadata": {
    "cell_id": "a3235ea95099460d9c3b8067effe2a02",
    "tags": [],
    "deepnote_to_be_reexecuted": false,
    "source_hash": "f804c160",
    "execution_start": 1648995363073,
    "execution_millis": 200,
    "deepnote_cell_type": "code",
    "deepnote_cell_height": 600
   },
   "source": "df",
   "execution_count": null,
   "outputs": [
    {
     "output_type": "execute_result",
     "execution_count": 15,
     "data": {
      "application/vnd.deepnote.dataframe.v3+json": {
       "column_count": 16,
       "row_count": 1000,
       "columns": [
        {
         "name": "Poster_Link",
         "dtype": "object",
         "stats": {
          "unique_count": 1000,
          "nan_count": 0,
          "categories": [
           {
            "name": "https://m.media-amazon.com/images/M/MV5BMDFkYTc0MGEtZmNhMC00ZDIzLWFmNTEtODM1ZmRlYWMwMWFmXkEyXkFqcGdeQXVyMTMxODk2OTU@._V1_UX67_CR0,0,67,98_AL_.jpg",
            "count": 1
           },
           {
            "name": "https://m.media-amazon.com/images/M/MV5BM2MyNjYxNmUtYTAwNi00MTYxLWJmNWYtYzZlODY3ZTk3OTFlXkEyXkFqcGdeQXVyNzkwMjQ5NzM@._V1_UY98_CR1,0,67,98_AL_.jpg",
            "count": 1
           },
           {
            "name": "998 others",
            "count": 998
           }
          ]
         }
        },
        {
         "name": "Series_Title",
         "dtype": "object",
         "stats": {
          "unique_count": 999,
          "nan_count": 0,
          "categories": [
           {
            "name": "Drishyam",
            "count": 2
           },
           {
            "name": "The Shawshank Redemption",
            "count": 1
           },
           {
            "name": "997 others",
            "count": 997
           }
          ]
         }
        },
        {
         "name": "Released_Year",
         "dtype": "object",
         "stats": {
          "unique_count": 100,
          "nan_count": 0,
          "categories": [
           {
            "name": "2014",
            "count": 32
           },
           {
            "name": "2004",
            "count": 31
           },
           {
            "name": "98 others",
            "count": 937
           }
          ]
         }
        },
        {
         "name": "Certificate",
         "dtype": "object",
         "stats": {
          "unique_count": 16,
          "nan_count": 101,
          "categories": [
           {
            "name": "U",
            "count": 234
           },
           {
            "name": "15 others",
            "count": 665
           },
           {
            "name": "Missing",
            "count": 101
           }
          ]
         }
        },
        {
         "name": "Runtime",
         "dtype": "object",
         "stats": {
          "unique_count": 140,
          "nan_count": 0,
          "categories": [
           {
            "name": "130 min",
            "count": 23
           },
           {
            "name": "100 min",
            "count": 23
           },
           {
            "name": "138 others",
            "count": 954
           }
          ]
         }
        },
        {
         "name": "Genre",
         "dtype": "object",
         "stats": {
          "unique_count": 202,
          "nan_count": 0,
          "categories": [
           {
            "name": "Drama",
            "count": 85
           },
           {
            "name": "Drama, Romance",
            "count": 37
           },
           {
            "name": "200 others",
            "count": 878
           }
          ]
         }
        },
        {
         "name": "IMDB_Rating",
         "dtype": "float64",
         "stats": {
          "unique_count": 17,
          "nan_count": 0,
          "min": "7.6",
          "max": "9.3",
          "histogram": [
           {
            "bin_start": 7.6,
            "bin_end": 7.77,
            "count": 280
           },
           {
            "bin_start": 7.77,
            "bin_end": 7.9399999999999995,
            "count": 257
           },
           {
            "bin_start": 7.9399999999999995,
            "bin_end": 8.11,
            "count": 268
           },
           {
            "bin_start": 8.11,
            "bin_end": 8.28,
            "count": 67
           },
           {
            "bin_start": 8.28,
            "bin_end": 8.45,
            "count": 75
           },
           {
            "bin_start": 8.45,
            "bin_end": 8.620000000000001,
            "count": 35
           },
           {
            "bin_start": 8.620000000000001,
            "bin_end": 8.790000000000001,
            "count": 5
           },
           {
            "bin_start": 8.790000000000001,
            "bin_end": 8.96,
            "count": 8
           },
           {
            "bin_start": 8.96,
            "bin_end": 9.13,
            "count": 3
           },
           {
            "bin_start": 9.13,
            "bin_end": 9.3,
            "count": 2
           }
          ]
         }
        },
        {
         "name": "Overview",
         "dtype": "object",
         "stats": {
          "unique_count": 1000,
          "nan_count": 0,
          "categories": [
           {
            "name": "Two imprisoned men bond over a number of years, finding solace and eventual redemption through acts of common decency.",
            "count": 1
           },
           {
            "name": "An organized crime dynasty's aging patriarch transfers control of his clandestine empire to his reluctant son.",
            "count": 1
           },
           {
            "name": "998 others",
            "count": 998
           }
          ]
         }
        },
        {
         "name": "Meta_score",
         "dtype": "float64",
         "stats": {
          "unique_count": 63,
          "nan_count": 157,
          "min": "28.0",
          "max": "100.0",
          "histogram": [
           {
            "bin_start": 28,
            "bin_end": 35.2,
            "count": 3
           },
           {
            "bin_start": 35.2,
            "bin_end": 42.4,
            "count": 3
           },
           {
            "bin_start": 42.4,
            "bin_end": 49.6,
            "count": 13
           },
           {
            "bin_start": 49.6,
            "bin_end": 56.8,
            "count": 27
           },
           {
            "bin_start": 56.8,
            "bin_end": 64,
            "count": 53
           },
           {
            "bin_start": 64,
            "bin_end": 71.2,
            "count": 131
           },
           {
            "bin_start": 71.2,
            "bin_end": 78.4,
            "count": 181
           },
           {
            "bin_start": 78.4,
            "bin_end": 85.6,
            "count": 182
           },
           {
            "bin_start": 85.6,
            "bin_end": 92.8,
            "count": 150
           },
           {
            "bin_start": 92.8,
            "bin_end": 100,
            "count": 100
           }
          ]
         }
        },
        {
         "name": "Director",
         "dtype": "object",
         "stats": {
          "unique_count": 548,
          "nan_count": 0,
          "categories": [
           {
            "name": "Alfred Hitchcock",
            "count": 14
           },
           {
            "name": "Steven Spielberg",
            "count": 13
           },
           {
            "name": "546 others",
            "count": 973
           }
          ]
         }
        },
        {
         "name": "Star1",
         "dtype": "object",
         "stats": {
          "unique_count": 660,
          "nan_count": 0,
          "categories": [
           {
            "name": "Tom Hanks",
            "count": 12
           },
           {
            "name": "Robert De Niro",
            "count": 11
           },
           {
            "name": "658 others",
            "count": 977
           }
          ]
         }
        },
        {
         "name": "Star2",
         "dtype": "object",
         "stats": {
          "unique_count": 841,
          "nan_count": 0,
          "categories": [
           {
            "name": "Emma Watson",
            "count": 7
           },
           {
            "name": "Matt Damon",
            "count": 5
           },
           {
            "name": "839 others",
            "count": 988
           }
          ]
         }
        },
        {
         "name": "Star3",
         "dtype": "object",
         "stats": {
          "unique_count": 891,
          "nan_count": 0,
          "categories": [
           {
            "name": "Rupert Grint",
            "count": 5
           },
           {
            "name": "Samuel L. Jackson",
            "count": 4
           },
           {
            "name": "889 others",
            "count": 991
           }
          ]
         }
        },
        {
         "name": "Star4",
         "dtype": "object",
         "stats": {
          "unique_count": 939,
          "nan_count": 0,
          "categories": [
           {
            "name": "Michael Caine",
            "count": 4
           },
           {
            "name": "Mark Ruffalo",
            "count": 3
           },
           {
            "name": "937 others",
            "count": 993
           }
          ]
         }
        },
        {
         "name": "No_of_Votes",
         "dtype": "int64",
         "stats": {
          "unique_count": 999,
          "nan_count": 0,
          "min": "25088",
          "max": "2343110",
          "histogram": [
           {
            "bin_start": 25088,
            "bin_end": 256890.2,
            "count": 663
           },
           {
            "bin_start": 256890.2,
            "bin_end": 488692.4,
            "count": 150
           },
           {
            "bin_start": 488692.4,
            "bin_end": 720494.6000000001,
            "count": 94
           },
           {
            "bin_start": 720494.6000000001,
            "bin_end": 952296.8,
            "count": 47
           },
           {
            "bin_start": 952296.8,
            "bin_end": 1184099,
            "count": 20
           },
           {
            "bin_start": 1184099,
            "bin_end": 1415901.2000000002,
            "count": 12
           },
           {
            "bin_start": 1415901.2000000002,
            "bin_end": 1647703.4000000001,
            "count": 6
           },
           {
            "bin_start": 1647703.4000000001,
            "bin_end": 1879505.6,
            "count": 5
           },
           {
            "bin_start": 1879505.6,
            "bin_end": 2111307.8,
            "count": 1
           },
           {
            "bin_start": 2111307.8,
            "bin_end": 2343110,
            "count": 2
           }
          ]
         }
        },
        {
         "name": "Gross",
         "dtype": "float64",
         "stats": {
          "unique_count": 823,
          "nan_count": 169,
          "min": "1305.0",
          "max": "936662225.0",
          "histogram": [
           {
            "bin_start": 1305,
            "bin_end": 93667397,
            "count": 638
           },
           {
            "bin_start": 93667397,
            "bin_end": 187333489,
            "count": 98
           },
           {
            "bin_start": 187333489,
            "bin_end": 280999581,
            "count": 49
           },
           {
            "bin_start": 280999581,
            "bin_end": 374665673,
            "count": 26
           },
           {
            "bin_start": 374665673,
            "bin_end": 468331765,
            "count": 11
           },
           {
            "bin_start": 468331765,
            "bin_end": 561997857,
            "count": 2
           },
           {
            "bin_start": 561997857,
            "bin_end": 655663949,
            "count": 2
           },
           {
            "bin_start": 655663949,
            "bin_end": 749330041,
            "count": 2
           },
           {
            "bin_start": 749330041,
            "bin_end": 842996133,
            "count": 1
           },
           {
            "bin_start": 842996133,
            "bin_end": 936662225,
            "count": 2
           }
          ]
         }
        },
        {
         "name": "_deepnote_index_column",
         "dtype": "int64"
        }
       ],
       "rows": [
        {
         "Poster_Link": "https://m.media-amazon.com/images/M/MV5BMDFkYTc0MGEtZmNhMC00ZDIzLWFmNTEtODM1ZmRlYWMwMWFmXkEyXkFqcGdeQXVyMTMxODk2OTU@._V1_UX67_CR0,0,67,98_AL_.jpg",
         "Series_Title": "The Shawshank Redemption",
         "Released_Year": "1994",
         "Certificate": "A",
         "Runtime": "142 min",
         "Genre": "Drama",
         "IMDB_Rating": 9.3,
         "Overview": "Two imprisoned men bond over a number of years, finding solace and eventual redemption through acts of common decency.",
         "Meta_score": 80,
         "Director": "Frank Darabont",
         "Star1": "Tim Robbins",
         "Star2": "Morgan Freeman",
         "Star3": "Bob Gunton",
         "Star4": "William Sadler",
         "No_of_Votes": 2343110,
         "Gross": 28341469,
         "_deepnote_index_column": 0
        },
        {
         "Poster_Link": "https://m.media-amazon.com/images/M/MV5BM2MyNjYxNmUtYTAwNi00MTYxLWJmNWYtYzZlODY3ZTk3OTFlXkEyXkFqcGdeQXVyNzkwMjQ5NzM@._V1_UY98_CR1,0,67,98_AL_.jpg",
         "Series_Title": "The Godfather",
         "Released_Year": "1972",
         "Certificate": "A",
         "Runtime": "175 min",
         "Genre": "Crime, Drama",
         "IMDB_Rating": 9.2,
         "Overview": "An organized crime dynasty's aging patriarch transfers control of his clandestine empire to his reluctant son.",
         "Meta_score": 100,
         "Director": "Francis Ford Coppola",
         "Star1": "Marlon Brando",
         "Star2": "Al Pacino",
         "Star3": "James Caan",
         "Star4": "Diane Keaton",
         "No_of_Votes": 1620367,
         "Gross": 134966411,
         "_deepnote_index_column": 1
        },
        {
         "Poster_Link": "https://m.media-amazon.com/images/M/MV5BMTMxNTMwODM0NF5BMl5BanBnXkFtZTcwODAyMTk2Mw@@._V1_UX67_CR0,0,67,98_AL_.jpg",
         "Series_Title": "The Dark Knight",
         "Released_Year": "2008",
         "Certificate": "UA",
         "Runtime": "152 min",
         "Genre": "Action, Crime, Drama",
         "IMDB_Rating": 9,
         "Overview": "When the menace known as the Joker wreaks havoc and chaos on the people of Gotham, Batman must accept one of the greatest psychological and physical tests of his ability to fight injustice.",
         "Meta_score": 84,
         "Director": "Christopher Nolan",
         "Star1": "Christian Bale",
         "Star2": "Heath Ledger",
         "Star3": "Aaron Eckhart",
         "Star4": "Michael Caine",
         "No_of_Votes": 2303232,
         "Gross": 534858444,
         "_deepnote_index_column": 2
        },
        {
         "Poster_Link": "https://m.media-amazon.com/images/M/MV5BMWMwMGQzZTItY2JlNC00OWZiLWIyMDctNDk2ZDQ2YjRjMWQ0XkEyXkFqcGdeQXVyNzkwMjQ5NzM@._V1_UY98_CR1,0,67,98_AL_.jpg",
         "Series_Title": "The Godfather: Part II",
         "Released_Year": "1974",
         "Certificate": "A",
         "Runtime": "202 min",
         "Genre": "Crime, Drama",
         "IMDB_Rating": 9,
         "Overview": "The early life and career of Vito Corleone in 1920s New York City is portrayed, while his son, Michael, expands and tightens his grip on the family crime syndicate.",
         "Meta_score": 90,
         "Director": "Francis Ford Coppola",
         "Star1": "Al Pacino",
         "Star2": "Robert De Niro",
         "Star3": "Robert Duvall",
         "Star4": "Diane Keaton",
         "No_of_Votes": 1129952,
         "Gross": 57300000,
         "_deepnote_index_column": 3
        },
        {
         "Poster_Link": "https://m.media-amazon.com/images/M/MV5BMWU4N2FjNzYtNTVkNC00NzQ0LTg0MjAtYTJlMjFhNGUxZDFmXkEyXkFqcGdeQXVyNjc1NTYyMjg@._V1_UX67_CR0,0,67,98_AL_.jpg",
         "Series_Title": "12 Angry Men",
         "Released_Year": "1957",
         "Certificate": "U",
         "Runtime": "96 min",
         "Genre": "Crime, Drama",
         "IMDB_Rating": 9,
         "Overview": "A jury holdout attempts to prevent a miscarriage of justice by forcing his colleagues to reconsider the evidence.",
         "Meta_score": 96,
         "Director": "Sidney Lumet",
         "Star1": "Henry Fonda",
         "Star2": "Lee J. Cobb",
         "Star3": "Martin Balsam",
         "Star4": "John Fiedler",
         "No_of_Votes": 689845,
         "Gross": 4360000,
         "_deepnote_index_column": 4
        },
        {
         "Poster_Link": "https://m.media-amazon.com/images/M/MV5BNzA5ZDNlZWMtM2NhNS00NDJjLTk4NDItYTRmY2EwMWZlMTY3XkEyXkFqcGdeQXVyNzkwMjQ5NzM@._V1_UX67_CR0,0,67,98_AL_.jpg",
         "Series_Title": "The Lord of the Rings: The Return of the King",
         "Released_Year": "2003",
         "Certificate": "U",
         "Runtime": "201 min",
         "Genre": "Action, Adventure, Drama",
         "IMDB_Rating": 8.9,
         "Overview": "Gandalf and Aragorn lead the World of Men against Sauron's army to draw his gaze from Frodo and Sam as they approach Mount Doom with the One Ring.",
         "Meta_score": 94,
         "Director": "Peter Jackson",
         "Star1": "Elijah Wood",
         "Star2": "Viggo Mortensen",
         "Star3": "Ian McKellen",
         "Star4": "Orlando Bloom",
         "No_of_Votes": 1642758,
         "Gross": 377845905,
         "_deepnote_index_column": 5
        },
        {
         "Poster_Link": "https://m.media-amazon.com/images/M/MV5BNGNhMDIzZTUtNTBlZi00MTRlLWFjM2ItYzViMjE3YzI5MjljXkEyXkFqcGdeQXVyNzkwMjQ5NzM@._V1_UY98_CR0,0,67,98_AL_.jpg",
         "Series_Title": "Pulp Fiction",
         "Released_Year": "1994",
         "Certificate": "A",
         "Runtime": "154 min",
         "Genre": "Crime, Drama",
         "IMDB_Rating": 8.9,
         "Overview": "The lives of two mob hitmen, a boxer, a gangster and his wife, and a pair of diner bandits intertwine in four tales of violence and redemption.",
         "Meta_score": 94,
         "Director": "Quentin Tarantino",
         "Star1": "John Travolta",
         "Star2": "Uma Thurman",
         "Star3": "Samuel L. Jackson",
         "Star4": "Bruce Willis",
         "No_of_Votes": 1826188,
         "Gross": 107928762,
         "_deepnote_index_column": 6
        },
        {
         "Poster_Link": "https://m.media-amazon.com/images/M/MV5BNDE4OTMxMTctNmRhYy00NWE2LTg3YzItYTk3M2UwOTU5Njg4XkEyXkFqcGdeQXVyNjU0OTQ0OTY@._V1_UX67_CR0,0,67,98_AL_.jpg",
         "Series_Title": "Schindler's List",
         "Released_Year": "1993",
         "Certificate": "A",
         "Runtime": "195 min",
         "Genre": "Biography, Drama, History",
         "IMDB_Rating": 8.9,
         "Overview": "In German-occupied Poland during World War II, industrialist Oskar Schindler gradually becomes concerned for his Jewish workforce after witnessing their persecution by the Nazis.",
         "Meta_score": 94,
         "Director": "Steven Spielberg",
         "Star1": "Liam Neeson",
         "Star2": "Ralph Fiennes",
         "Star3": "Ben Kingsley",
         "Star4": "Caroline Goodall",
         "No_of_Votes": 1213505,
         "Gross": 96898818,
         "_deepnote_index_column": 7
        },
        {
         "Poster_Link": "https://m.media-amazon.com/images/M/MV5BMjAxMzY3NjcxNF5BMl5BanBnXkFtZTcwNTI5OTM0Mw@@._V1_UX67_CR0,0,67,98_AL_.jpg",
         "Series_Title": "Inception",
         "Released_Year": "2010",
         "Certificate": "UA",
         "Runtime": "148 min",
         "Genre": "Action, Adventure, Sci-Fi",
         "IMDB_Rating": 8.8,
         "Overview": "A thief who steals corporate secrets through the use of dream-sharing technology is given the inverse task of planting an idea into the mind of a C.E.O.",
         "Meta_score": 74,
         "Director": "Christopher Nolan",
         "Star1": "Leonardo DiCaprio",
         "Star2": "Joseph Gordon-Levitt",
         "Star3": "Elliot Page",
         "Star4": "Ken Watanabe",
         "No_of_Votes": 2067042,
         "Gross": 292576195,
         "_deepnote_index_column": 8
        },
        {
         "Poster_Link": "https://m.media-amazon.com/images/M/MV5BMmEzNTkxYjQtZTc0MC00YTVjLTg5ZTEtZWMwOWVlYzY0NWIwXkEyXkFqcGdeQXVyNzkwMjQ5NzM@._V1_UX67_CR0,0,67,98_AL_.jpg",
         "Series_Title": "Fight Club",
         "Released_Year": "1999",
         "Certificate": "A",
         "Runtime": "139 min",
         "Genre": "Drama",
         "IMDB_Rating": 8.8,
         "Overview": "An insomniac office worker and a devil-may-care soapmaker form an underground fight club that evolves into something much, much more.",
         "Meta_score": 66,
         "Director": "David Fincher",
         "Star1": "Brad Pitt",
         "Star2": "Edward Norton",
         "Star3": "Meat Loaf",
         "Star4": "Zach Grenier",
         "No_of_Votes": 1854740,
         "Gross": 37030102,
         "_deepnote_index_column": 9
        }
       ]
      },
      "text/plain": "                                           Poster_Link  \\\n0    https://m.media-amazon.com/images/M/MV5BMDFkYT...   \n1    https://m.media-amazon.com/images/M/MV5BM2MyNj...   \n2    https://m.media-amazon.com/images/M/MV5BMTMxNT...   \n3    https://m.media-amazon.com/images/M/MV5BMWMwMG...   \n4    https://m.media-amazon.com/images/M/MV5BMWU4N2...   \n..                                                 ...   \n995  https://m.media-amazon.com/images/M/MV5BNGEwMT...   \n996  https://m.media-amazon.com/images/M/MV5BODk3Yj...   \n997  https://m.media-amazon.com/images/M/MV5BM2U3Yz...   \n998  https://m.media-amazon.com/images/M/MV5BZTBmMj...   \n999  https://m.media-amazon.com/images/M/MV5BMTY5OD...   \n\n                 Series_Title Released_Year Certificate  Runtime  \\\n0    The Shawshank Redemption          1994           A  142 min   \n1               The Godfather          1972           A  175 min   \n2             The Dark Knight          2008          UA  152 min   \n3      The Godfather: Part II          1974           A  202 min   \n4                12 Angry Men          1957           U   96 min   \n..                        ...           ...         ...      ...   \n995    Breakfast at Tiffany's          1961           A  115 min   \n996                     Giant          1956           G  201 min   \n997     From Here to Eternity          1953      Passed  118 min   \n998                  Lifeboat          1944         NaN   97 min   \n999              The 39 Steps          1935         NaN   86 min   \n\n                        Genre  IMDB_Rating  \\\n0                       Drama          9.3   \n1                Crime, Drama          9.2   \n2        Action, Crime, Drama          9.0   \n3                Crime, Drama          9.0   \n4                Crime, Drama          9.0   \n..                        ...          ...   \n995    Comedy, Drama, Romance          7.6   \n996            Drama, Western          7.6   \n997       Drama, Romance, War          7.6   \n998                Drama, War          7.6   \n999  Crime, Mystery, Thriller          7.6   \n\n                                              Overview  Meta_score  \\\n0    Two imprisoned men bond over a number of years...        80.0   \n1    An organized crime dynasty's aging patriarch t...       100.0   \n2    When the menace known as the Joker wreaks havo...        84.0   \n3    The early life and career of Vito Corleone in ...        90.0   \n4    A jury holdout attempts to prevent a miscarria...        96.0   \n..                                                 ...         ...   \n995  A young New York socialite becomes interested ...        76.0   \n996  Sprawling epic covering the life of a Texas ca...        84.0   \n997  In Hawaii in 1941, a private is cruelly punish...        85.0   \n998  Several survivors of a torpedoed merchant ship...        78.0   \n999  A man in London tries to help a counter-espion...        93.0   \n\n                 Director              Star1              Star2  \\\n0          Frank Darabont        Tim Robbins     Morgan Freeman   \n1    Francis Ford Coppola      Marlon Brando          Al Pacino   \n2       Christopher Nolan     Christian Bale       Heath Ledger   \n3    Francis Ford Coppola          Al Pacino     Robert De Niro   \n4            Sidney Lumet        Henry Fonda        Lee J. Cobb   \n..                    ...                ...                ...   \n995         Blake Edwards     Audrey Hepburn     George Peppard   \n996        George Stevens   Elizabeth Taylor        Rock Hudson   \n997        Fred Zinnemann     Burt Lancaster   Montgomery Clift   \n998      Alfred Hitchcock  Tallulah Bankhead        John Hodiak   \n999      Alfred Hitchcock       Robert Donat  Madeleine Carroll   \n\n              Star3           Star4  No_of_Votes        Gross  \n0        Bob Gunton  William Sadler      2343110   28341469.0  \n1        James Caan    Diane Keaton      1620367  134966411.0  \n2     Aaron Eckhart   Michael Caine      2303232  534858444.0  \n3     Robert Duvall    Diane Keaton      1129952   57300000.0  \n4     Martin Balsam    John Fiedler       689845    4360000.0  \n..              ...             ...          ...          ...  \n995   Patricia Neal     Buddy Ebsen       166544          NaN  \n996      James Dean   Carroll Baker        34075          NaN  \n997    Deborah Kerr      Donna Reed        43374   30500000.0  \n998   Walter Slezak  William Bendix        26471          NaN  \n999  Lucie Mannheim  Godfrey Tearle        51853          NaN  \n\n[1000 rows x 16 columns]",
      "text/html": "<div>\n<style scoped>\n    .dataframe tbody tr th:only-of-type {\n        vertical-align: middle;\n    }\n\n    .dataframe tbody tr th {\n        vertical-align: top;\n    }\n\n    .dataframe thead th {\n        text-align: right;\n    }\n</style>\n<table border=\"1\" class=\"dataframe\">\n  <thead>\n    <tr style=\"text-align: right;\">\n      <th></th>\n      <th>Poster_Link</th>\n      <th>Series_Title</th>\n      <th>Released_Year</th>\n      <th>Certificate</th>\n      <th>Runtime</th>\n      <th>Genre</th>\n      <th>IMDB_Rating</th>\n      <th>Overview</th>\n      <th>Meta_score</th>\n      <th>Director</th>\n      <th>Star1</th>\n      <th>Star2</th>\n      <th>Star3</th>\n      <th>Star4</th>\n      <th>No_of_Votes</th>\n      <th>Gross</th>\n    </tr>\n  </thead>\n  <tbody>\n    <tr>\n      <th>0</th>\n      <td>https://m.media-amazon.com/images/M/MV5BMDFkYT...</td>\n      <td>The Shawshank Redemption</td>\n      <td>1994</td>\n      <td>A</td>\n      <td>142 min</td>\n      <td>Drama</td>\n      <td>9.3</td>\n      <td>Two imprisoned men bond over a number of years...</td>\n      <td>80.0</td>\n      <td>Frank Darabont</td>\n      <td>Tim Robbins</td>\n      <td>Morgan Freeman</td>\n      <td>Bob Gunton</td>\n      <td>William Sadler</td>\n      <td>2343110</td>\n      <td>28341469.0</td>\n    </tr>\n    <tr>\n      <th>1</th>\n      <td>https://m.media-amazon.com/images/M/MV5BM2MyNj...</td>\n      <td>The Godfather</td>\n      <td>1972</td>\n      <td>A</td>\n      <td>175 min</td>\n      <td>Crime, Drama</td>\n      <td>9.2</td>\n      <td>An organized crime dynasty's aging patriarch t...</td>\n      <td>100.0</td>\n      <td>Francis Ford Coppola</td>\n      <td>Marlon Brando</td>\n      <td>Al Pacino</td>\n      <td>James Caan</td>\n      <td>Diane Keaton</td>\n      <td>1620367</td>\n      <td>134966411.0</td>\n    </tr>\n    <tr>\n      <th>2</th>\n      <td>https://m.media-amazon.com/images/M/MV5BMTMxNT...</td>\n      <td>The Dark Knight</td>\n      <td>2008</td>\n      <td>UA</td>\n      <td>152 min</td>\n      <td>Action, Crime, Drama</td>\n      <td>9.0</td>\n      <td>When the menace known as the Joker wreaks havo...</td>\n      <td>84.0</td>\n      <td>Christopher Nolan</td>\n      <td>Christian Bale</td>\n      <td>Heath Ledger</td>\n      <td>Aaron Eckhart</td>\n      <td>Michael Caine</td>\n      <td>2303232</td>\n      <td>534858444.0</td>\n    </tr>\n    <tr>\n      <th>3</th>\n      <td>https://m.media-amazon.com/images/M/MV5BMWMwMG...</td>\n      <td>The Godfather: Part II</td>\n      <td>1974</td>\n      <td>A</td>\n      <td>202 min</td>\n      <td>Crime, Drama</td>\n      <td>9.0</td>\n      <td>The early life and career of Vito Corleone in ...</td>\n      <td>90.0</td>\n      <td>Francis Ford Coppola</td>\n      <td>Al Pacino</td>\n      <td>Robert De Niro</td>\n      <td>Robert Duvall</td>\n      <td>Diane Keaton</td>\n      <td>1129952</td>\n      <td>57300000.0</td>\n    </tr>\n    <tr>\n      <th>4</th>\n      <td>https://m.media-amazon.com/images/M/MV5BMWU4N2...</td>\n      <td>12 Angry Men</td>\n      <td>1957</td>\n      <td>U</td>\n      <td>96 min</td>\n      <td>Crime, Drama</td>\n      <td>9.0</td>\n      <td>A jury holdout attempts to prevent a miscarria...</td>\n      <td>96.0</td>\n      <td>Sidney Lumet</td>\n      <td>Henry Fonda</td>\n      <td>Lee J. Cobb</td>\n      <td>Martin Balsam</td>\n      <td>John Fiedler</td>\n      <td>689845</td>\n      <td>4360000.0</td>\n    </tr>\n    <tr>\n      <th>...</th>\n      <td>...</td>\n      <td>...</td>\n      <td>...</td>\n      <td>...</td>\n      <td>...</td>\n      <td>...</td>\n      <td>...</td>\n      <td>...</td>\n      <td>...</td>\n      <td>...</td>\n      <td>...</td>\n      <td>...</td>\n      <td>...</td>\n      <td>...</td>\n      <td>...</td>\n      <td>...</td>\n    </tr>\n    <tr>\n      <th>995</th>\n      <td>https://m.media-amazon.com/images/M/MV5BNGEwMT...</td>\n      <td>Breakfast at Tiffany's</td>\n      <td>1961</td>\n      <td>A</td>\n      <td>115 min</td>\n      <td>Comedy, Drama, Romance</td>\n      <td>7.6</td>\n      <td>A young New York socialite becomes interested ...</td>\n      <td>76.0</td>\n      <td>Blake Edwards</td>\n      <td>Audrey Hepburn</td>\n      <td>George Peppard</td>\n      <td>Patricia Neal</td>\n      <td>Buddy Ebsen</td>\n      <td>166544</td>\n      <td>NaN</td>\n    </tr>\n    <tr>\n      <th>996</th>\n      <td>https://m.media-amazon.com/images/M/MV5BODk3Yj...</td>\n      <td>Giant</td>\n      <td>1956</td>\n      <td>G</td>\n      <td>201 min</td>\n      <td>Drama, Western</td>\n      <td>7.6</td>\n      <td>Sprawling epic covering the life of a Texas ca...</td>\n      <td>84.0</td>\n      <td>George Stevens</td>\n      <td>Elizabeth Taylor</td>\n      <td>Rock Hudson</td>\n      <td>James Dean</td>\n      <td>Carroll Baker</td>\n      <td>34075</td>\n      <td>NaN</td>\n    </tr>\n    <tr>\n      <th>997</th>\n      <td>https://m.media-amazon.com/images/M/MV5BM2U3Yz...</td>\n      <td>From Here to Eternity</td>\n      <td>1953</td>\n      <td>Passed</td>\n      <td>118 min</td>\n      <td>Drama, Romance, War</td>\n      <td>7.6</td>\n      <td>In Hawaii in 1941, a private is cruelly punish...</td>\n      <td>85.0</td>\n      <td>Fred Zinnemann</td>\n      <td>Burt Lancaster</td>\n      <td>Montgomery Clift</td>\n      <td>Deborah Kerr</td>\n      <td>Donna Reed</td>\n      <td>43374</td>\n      <td>30500000.0</td>\n    </tr>\n    <tr>\n      <th>998</th>\n      <td>https://m.media-amazon.com/images/M/MV5BZTBmMj...</td>\n      <td>Lifeboat</td>\n      <td>1944</td>\n      <td>NaN</td>\n      <td>97 min</td>\n      <td>Drama, War</td>\n      <td>7.6</td>\n      <td>Several survivors of a torpedoed merchant ship...</td>\n      <td>78.0</td>\n      <td>Alfred Hitchcock</td>\n      <td>Tallulah Bankhead</td>\n      <td>John Hodiak</td>\n      <td>Walter Slezak</td>\n      <td>William Bendix</td>\n      <td>26471</td>\n      <td>NaN</td>\n    </tr>\n    <tr>\n      <th>999</th>\n      <td>https://m.media-amazon.com/images/M/MV5BMTY5OD...</td>\n      <td>The 39 Steps</td>\n      <td>1935</td>\n      <td>NaN</td>\n      <td>86 min</td>\n      <td>Crime, Mystery, Thriller</td>\n      <td>7.6</td>\n      <td>A man in London tries to help a counter-espion...</td>\n      <td>93.0</td>\n      <td>Alfred Hitchcock</td>\n      <td>Robert Donat</td>\n      <td>Madeleine Carroll</td>\n      <td>Lucie Mannheim</td>\n      <td>Godfrey Tearle</td>\n      <td>51853</td>\n      <td>NaN</td>\n    </tr>\n  </tbody>\n</table>\n<p>1000 rows × 16 columns</p>\n</div>"
     },
     "metadata": {}
    }
   ]
  },
  {
   "cell_type": "code",
   "metadata": {
    "cell_id": "13df54c3938740939c9a076a6d0bfb9a",
    "tags": [],
    "deepnote_to_be_reexecuted": false,
    "source_hash": "148f5c8",
    "execution_start": 1648995611880,
    "execution_millis": 14,
    "deepnote_cell_type": "code",
    "deepnote_cell_height": 81
   },
   "source": "top_10 = df.nlargest(10,[\"IMDB_Rating\",\"Gross\"])",
   "execution_count": null,
   "outputs": []
  },
  {
   "cell_type": "code",
   "metadata": {
    "cell_id": "db08a8a4e0ef49a888d2f1c5526e2258",
    "tags": [],
    "deepnote_to_be_reexecuted": false,
    "source_hash": "53aed5b4",
    "execution_start": 1648995617973,
    "execution_millis": 63,
    "deepnote_cell_type": "code",
    "deepnote_cell_height": 600
   },
   "source": "top_10",
   "execution_count": null,
   "outputs": [
    {
     "output_type": "execute_result",
     "execution_count": 19,
     "data": {
      "application/vnd.deepnote.dataframe.v3+json": {
       "column_count": 16,
       "row_count": 10,
       "columns": [
        {
         "name": "Poster_Link",
         "dtype": "object",
         "stats": {
          "unique_count": 10,
          "nan_count": 0,
          "categories": [
           {
            "name": "https://m.media-amazon.com/images/M/MV5BMDFkYTc0MGEtZmNhMC00ZDIzLWFmNTEtODM1ZmRlYWMwMWFmXkEyXkFqcGdeQXVyMTMxODk2OTU@._V1_UX67_CR0,0,67,98_AL_.jpg",
            "count": 1
           },
           {
            "name": "https://m.media-amazon.com/images/M/MV5BM2MyNjYxNmUtYTAwNi00MTYxLWJmNWYtYzZlODY3ZTk3OTFlXkEyXkFqcGdeQXVyNzkwMjQ5NzM@._V1_UY98_CR1,0,67,98_AL_.jpg",
            "count": 1
           },
           {
            "name": "8 others",
            "count": 8
           }
          ]
         }
        },
        {
         "name": "Series_Title",
         "dtype": "object",
         "stats": {
          "unique_count": 10,
          "nan_count": 0,
          "categories": [
           {
            "name": "The Shawshank Redemption",
            "count": 1
           },
           {
            "name": "The Godfather",
            "count": 1
           },
           {
            "name": "8 others",
            "count": 8
           }
          ]
         }
        },
        {
         "name": "Released_Year",
         "dtype": "object",
         "stats": {
          "unique_count": 8,
          "nan_count": 0,
          "categories": [
           {
            "name": "1994",
            "count": 3
           },
           {
            "name": "1972",
            "count": 1
           },
           {
            "name": "6 others",
            "count": 6
           }
          ]
         }
        },
        {
         "name": "Certificate",
         "dtype": "object",
         "stats": {
          "unique_count": 3,
          "nan_count": 0,
          "categories": [
           {
            "name": "A",
            "count": 5
           },
           {
            "name": "U",
            "count": 3
           },
           {
            "name": "UA",
            "count": 2
           }
          ]
         }
        },
        {
         "name": "Runtime",
         "dtype": "object",
         "stats": {
          "unique_count": 9,
          "nan_count": 0,
          "categories": [
           {
            "name": "142 min",
            "count": 2
           },
           {
            "name": "175 min",
            "count": 1
           },
           {
            "name": "7 others",
            "count": 7
           }
          ]
         }
        },
        {
         "name": "Genre",
         "dtype": "object",
         "stats": {
          "unique_count": 6,
          "nan_count": 0,
          "categories": [
           {
            "name": "Crime, Drama",
            "count": 4
           },
           {
            "name": "Action, Adventure, Drama",
            "count": 2
           },
           {
            "name": "4 others",
            "count": 4
           }
          ]
         }
        },
        {
         "name": "IMDB_Rating",
         "dtype": "float64",
         "stats": {
          "unique_count": 5,
          "nan_count": 0,
          "min": "8.8",
          "max": "9.3",
          "histogram": [
           {
            "bin_start": 8.8,
            "bin_end": 8.850000000000001,
            "count": 2
           },
           {
            "bin_start": 8.850000000000001,
            "bin_end": 8.9,
            "count": 0
           },
           {
            "bin_start": 8.9,
            "bin_end": 8.950000000000001,
            "count": 3
           },
           {
            "bin_start": 8.950000000000001,
            "bin_end": 9,
            "count": 0
           },
           {
            "bin_start": 9,
            "bin_end": 9.05,
            "count": 3
           },
           {
            "bin_start": 9.05,
            "bin_end": 9.100000000000001,
            "count": 0
           },
           {
            "bin_start": 9.100000000000001,
            "bin_end": 9.15,
            "count": 0
           },
           {
            "bin_start": 9.15,
            "bin_end": 9.200000000000001,
            "count": 1
           },
           {
            "bin_start": 9.200000000000001,
            "bin_end": 9.25,
            "count": 0
           },
           {
            "bin_start": 9.25,
            "bin_end": 9.3,
            "count": 1
           }
          ]
         }
        },
        {
         "name": "Overview",
         "dtype": "object",
         "stats": {
          "unique_count": 10,
          "nan_count": 0,
          "categories": [
           {
            "name": "Two imprisoned men bond over a number of years, finding solace and eventual redemption through acts of common decency.",
            "count": 1
           },
           {
            "name": "An organized crime dynasty's aging patriarch transfers control of his clandestine empire to his reluctant son.",
            "count": 1
           },
           {
            "name": "8 others",
            "count": 8
           }
          ]
         }
        },
        {
         "name": "Meta_score",
         "dtype": "float64",
         "stats": {
          "unique_count": 8,
          "nan_count": 0,
          "min": "80.0",
          "max": "100.0",
          "histogram": [
           {
            "bin_start": 80,
            "bin_end": 82,
            "count": 1
           },
           {
            "bin_start": 82,
            "bin_end": 84,
            "count": 1
           },
           {
            "bin_start": 84,
            "bin_end": 86,
            "count": 1
           },
           {
            "bin_start": 86,
            "bin_end": 88,
            "count": 0
           },
           {
            "bin_start": 88,
            "bin_end": 90,
            "count": 0
           },
           {
            "bin_start": 90,
            "bin_end": 92,
            "count": 1
           },
           {
            "bin_start": 92,
            "bin_end": 94,
            "count": 1
           },
           {
            "bin_start": 94,
            "bin_end": 96,
            "count": 3
           },
           {
            "bin_start": 96,
            "bin_end": 98,
            "count": 1
           },
           {
            "bin_start": 98,
            "bin_end": 100,
            "count": 1
           }
          ]
         }
        },
        {
         "name": "Director",
         "dtype": "object",
         "stats": {
          "unique_count": 8,
          "nan_count": 0,
          "categories": [
           {
            "name": "Francis Ford Coppola",
            "count": 2
           },
           {
            "name": "Peter Jackson",
            "count": 2
           },
           {
            "name": "6 others",
            "count": 6
           }
          ]
         }
        },
        {
         "name": "Star1",
         "dtype": "object",
         "stats": {
          "unique_count": 9,
          "nan_count": 0,
          "categories": [
           {
            "name": "Elijah Wood",
            "count": 2
           },
           {
            "name": "Tim Robbins",
            "count": 1
           },
           {
            "name": "7 others",
            "count": 7
           }
          ]
         }
        },
        {
         "name": "Star2",
         "dtype": "object",
         "stats": {
          "unique_count": 10,
          "nan_count": 0,
          "categories": [
           {
            "name": "Morgan Freeman",
            "count": 1
           },
           {
            "name": "Al Pacino",
            "count": 1
           },
           {
            "name": "8 others",
            "count": 8
           }
          ]
         }
        },
        {
         "name": "Star3",
         "dtype": "object",
         "stats": {
          "unique_count": 10,
          "nan_count": 0,
          "categories": [
           {
            "name": "Bob Gunton",
            "count": 1
           },
           {
            "name": "James Caan",
            "count": 1
           },
           {
            "name": "8 others",
            "count": 8
           }
          ]
         }
        },
        {
         "name": "Star4",
         "dtype": "object",
         "stats": {
          "unique_count": 9,
          "nan_count": 0,
          "categories": [
           {
            "name": "Diane Keaton",
            "count": 2
           },
           {
            "name": "William Sadler",
            "count": 1
           },
           {
            "name": "7 others",
            "count": 7
           }
          ]
         }
        },
        {
         "name": "No_of_Votes",
         "dtype": "int64",
         "stats": {
          "unique_count": 10,
          "nan_count": 0,
          "min": "689845",
          "max": "2343110",
          "histogram": [
           {
            "bin_start": 689845,
            "bin_end": 855171.5,
            "count": 1
           },
           {
            "bin_start": 855171.5,
            "bin_end": 1020498,
            "count": 0
           },
           {
            "bin_start": 1020498,
            "bin_end": 1185824.5,
            "count": 1
           },
           {
            "bin_start": 1185824.5,
            "bin_end": 1351151,
            "count": 1
           },
           {
            "bin_start": 1351151,
            "bin_end": 1516477.5,
            "count": 0
           },
           {
            "bin_start": 1516477.5,
            "bin_end": 1681804,
            "count": 3
           },
           {
            "bin_start": 1681804,
            "bin_end": 1847130.5,
            "count": 2
           },
           {
            "bin_start": 1847130.5,
            "bin_end": 2012457,
            "count": 0
           },
           {
            "bin_start": 2012457,
            "bin_end": 2177783.5,
            "count": 0
           },
           {
            "bin_start": 2177783.5,
            "bin_end": 2343110,
            "count": 2
           }
          ]
         }
        },
        {
         "name": "Gross",
         "dtype": "float64",
         "stats": {
          "unique_count": 10,
          "nan_count": 0,
          "min": "4360000.0",
          "max": "534858444.0",
          "histogram": [
           {
            "bin_start": 4360000,
            "bin_end": 57409844.4,
            "count": 3
           },
           {
            "bin_start": 57409844.4,
            "bin_end": 110459688.8,
            "count": 2
           },
           {
            "bin_start": 110459688.8,
            "bin_end": 163509533.2,
            "count": 1
           },
           {
            "bin_start": 163509533.2,
            "bin_end": 216559377.6,
            "count": 0
           },
           {
            "bin_start": 216559377.6,
            "bin_end": 269609222,
            "count": 0
           },
           {
            "bin_start": 269609222,
            "bin_end": 322659066.4,
            "count": 1
           },
           {
            "bin_start": 322659066.4,
            "bin_end": 375708910.8,
            "count": 1
           },
           {
            "bin_start": 375708910.8,
            "bin_end": 428758755.2,
            "count": 1
           },
           {
            "bin_start": 428758755.2,
            "bin_end": 481808599.59999996,
            "count": 0
           },
           {
            "bin_start": 481808599.59999996,
            "bin_end": 534858444,
            "count": 1
           }
          ]
         }
        },
        {
         "name": "_deepnote_index_column",
         "dtype": "int64"
        }
       ],
       "rows": [
        {
         "Poster_Link": "https://m.media-amazon.com/images/M/MV5BMDFkYTc0MGEtZmNhMC00ZDIzLWFmNTEtODM1ZmRlYWMwMWFmXkEyXkFqcGdeQXVyMTMxODk2OTU@._V1_UX67_CR0,0,67,98_AL_.jpg",
         "Series_Title": "The Shawshank Redemption",
         "Released_Year": "1994",
         "Certificate": "A",
         "Runtime": "142 min",
         "Genre": "Drama",
         "IMDB_Rating": 9.3,
         "Overview": "Two imprisoned men bond over a number of years, finding solace and eventual redemption through acts of common decency.",
         "Meta_score": 80,
         "Director": "Frank Darabont",
         "Star1": "Tim Robbins",
         "Star2": "Morgan Freeman",
         "Star3": "Bob Gunton",
         "Star4": "William Sadler",
         "No_of_Votes": 2343110,
         "Gross": 28341469,
         "_deepnote_index_column": 0
        },
        {
         "Poster_Link": "https://m.media-amazon.com/images/M/MV5BM2MyNjYxNmUtYTAwNi00MTYxLWJmNWYtYzZlODY3ZTk3OTFlXkEyXkFqcGdeQXVyNzkwMjQ5NzM@._V1_UY98_CR1,0,67,98_AL_.jpg",
         "Series_Title": "The Godfather",
         "Released_Year": "1972",
         "Certificate": "A",
         "Runtime": "175 min",
         "Genre": "Crime, Drama",
         "IMDB_Rating": 9.2,
         "Overview": "An organized crime dynasty's aging patriarch transfers control of his clandestine empire to his reluctant son.",
         "Meta_score": 100,
         "Director": "Francis Ford Coppola",
         "Star1": "Marlon Brando",
         "Star2": "Al Pacino",
         "Star3": "James Caan",
         "Star4": "Diane Keaton",
         "No_of_Votes": 1620367,
         "Gross": 134966411,
         "_deepnote_index_column": 1
        },
        {
         "Poster_Link": "https://m.media-amazon.com/images/M/MV5BMTMxNTMwODM0NF5BMl5BanBnXkFtZTcwODAyMTk2Mw@@._V1_UX67_CR0,0,67,98_AL_.jpg",
         "Series_Title": "The Dark Knight",
         "Released_Year": "2008",
         "Certificate": "UA",
         "Runtime": "152 min",
         "Genre": "Action, Crime, Drama",
         "IMDB_Rating": 9,
         "Overview": "When the menace known as the Joker wreaks havoc and chaos on the people of Gotham, Batman must accept one of the greatest psychological and physical tests of his ability to fight injustice.",
         "Meta_score": 84,
         "Director": "Christopher Nolan",
         "Star1": "Christian Bale",
         "Star2": "Heath Ledger",
         "Star3": "Aaron Eckhart",
         "Star4": "Michael Caine",
         "No_of_Votes": 2303232,
         "Gross": 534858444,
         "_deepnote_index_column": 2
        },
        {
         "Poster_Link": "https://m.media-amazon.com/images/M/MV5BMWMwMGQzZTItY2JlNC00OWZiLWIyMDctNDk2ZDQ2YjRjMWQ0XkEyXkFqcGdeQXVyNzkwMjQ5NzM@._V1_UY98_CR1,0,67,98_AL_.jpg",
         "Series_Title": "The Godfather: Part II",
         "Released_Year": "1974",
         "Certificate": "A",
         "Runtime": "202 min",
         "Genre": "Crime, Drama",
         "IMDB_Rating": 9,
         "Overview": "The early life and career of Vito Corleone in 1920s New York City is portrayed, while his son, Michael, expands and tightens his grip on the family crime syndicate.",
         "Meta_score": 90,
         "Director": "Francis Ford Coppola",
         "Star1": "Al Pacino",
         "Star2": "Robert De Niro",
         "Star3": "Robert Duvall",
         "Star4": "Diane Keaton",
         "No_of_Votes": 1129952,
         "Gross": 57300000,
         "_deepnote_index_column": 3
        },
        {
         "Poster_Link": "https://m.media-amazon.com/images/M/MV5BMWU4N2FjNzYtNTVkNC00NzQ0LTg0MjAtYTJlMjFhNGUxZDFmXkEyXkFqcGdeQXVyNjc1NTYyMjg@._V1_UX67_CR0,0,67,98_AL_.jpg",
         "Series_Title": "12 Angry Men",
         "Released_Year": "1957",
         "Certificate": "U",
         "Runtime": "96 min",
         "Genre": "Crime, Drama",
         "IMDB_Rating": 9,
         "Overview": "A jury holdout attempts to prevent a miscarriage of justice by forcing his colleagues to reconsider the evidence.",
         "Meta_score": 96,
         "Director": "Sidney Lumet",
         "Star1": "Henry Fonda",
         "Star2": "Lee J. Cobb",
         "Star3": "Martin Balsam",
         "Star4": "John Fiedler",
         "No_of_Votes": 689845,
         "Gross": 4360000,
         "_deepnote_index_column": 4
        },
        {
         "Poster_Link": "https://m.media-amazon.com/images/M/MV5BNzA5ZDNlZWMtM2NhNS00NDJjLTk4NDItYTRmY2EwMWZlMTY3XkEyXkFqcGdeQXVyNzkwMjQ5NzM@._V1_UX67_CR0,0,67,98_AL_.jpg",
         "Series_Title": "The Lord of the Rings: The Return of the King",
         "Released_Year": "2003",
         "Certificate": "U",
         "Runtime": "201 min",
         "Genre": "Action, Adventure, Drama",
         "IMDB_Rating": 8.9,
         "Overview": "Gandalf and Aragorn lead the World of Men against Sauron's army to draw his gaze from Frodo and Sam as they approach Mount Doom with the One Ring.",
         "Meta_score": 94,
         "Director": "Peter Jackson",
         "Star1": "Elijah Wood",
         "Star2": "Viggo Mortensen",
         "Star3": "Ian McKellen",
         "Star4": "Orlando Bloom",
         "No_of_Votes": 1642758,
         "Gross": 377845905,
         "_deepnote_index_column": 5
        },
        {
         "Poster_Link": "https://m.media-amazon.com/images/M/MV5BNGNhMDIzZTUtNTBlZi00MTRlLWFjM2ItYzViMjE3YzI5MjljXkEyXkFqcGdeQXVyNzkwMjQ5NzM@._V1_UY98_CR0,0,67,98_AL_.jpg",
         "Series_Title": "Pulp Fiction",
         "Released_Year": "1994",
         "Certificate": "A",
         "Runtime": "154 min",
         "Genre": "Crime, Drama",
         "IMDB_Rating": 8.9,
         "Overview": "The lives of two mob hitmen, a boxer, a gangster and his wife, and a pair of diner bandits intertwine in four tales of violence and redemption.",
         "Meta_score": 94,
         "Director": "Quentin Tarantino",
         "Star1": "John Travolta",
         "Star2": "Uma Thurman",
         "Star3": "Samuel L. Jackson",
         "Star4": "Bruce Willis",
         "No_of_Votes": 1826188,
         "Gross": 107928762,
         "_deepnote_index_column": 6
        },
        {
         "Poster_Link": "https://m.media-amazon.com/images/M/MV5BNDE4OTMxMTctNmRhYy00NWE2LTg3YzItYTk3M2UwOTU5Njg4XkEyXkFqcGdeQXVyNjU0OTQ0OTY@._V1_UX67_CR0,0,67,98_AL_.jpg",
         "Series_Title": "Schindler's List",
         "Released_Year": "1993",
         "Certificate": "A",
         "Runtime": "195 min",
         "Genre": "Biography, Drama, History",
         "IMDB_Rating": 8.9,
         "Overview": "In German-occupied Poland during World War II, industrialist Oskar Schindler gradually becomes concerned for his Jewish workforce after witnessing their persecution by the Nazis.",
         "Meta_score": 94,
         "Director": "Steven Spielberg",
         "Star1": "Liam Neeson",
         "Star2": "Ralph Fiennes",
         "Star3": "Ben Kingsley",
         "Star4": "Caroline Goodall",
         "No_of_Votes": 1213505,
         "Gross": 96898818,
         "_deepnote_index_column": 7
        },
        {
         "Poster_Link": "https://m.media-amazon.com/images/M/MV5BNWIwODRlZTUtY2U3ZS00Yzg1LWJhNzYtMmZiYmEyNmU1NjMzXkEyXkFqcGdeQXVyMTQxNzMzNDI@._V1_UY98_CR0,0,67,98_AL_.jpg",
         "Series_Title": "Forrest Gump",
         "Released_Year": "1994",
         "Certificate": "UA",
         "Runtime": "142 min",
         "Genre": "Drama, Romance",
         "IMDB_Rating": 8.8,
         "Overview": "The presidencies of Kennedy and Johnson, the events of Vietnam, Watergate and other historical events unfold through the perspective of an Alabama man with an IQ of 75, whose only desire is to be reunited with his childhood sweetheart.",
         "Meta_score": 82,
         "Director": "Robert Zemeckis",
         "Star1": "Tom Hanks",
         "Star2": "Robin Wright",
         "Star3": "Gary Sinise",
         "Star4": "Sally Field",
         "No_of_Votes": 1809221,
         "Gross": 330252182,
         "_deepnote_index_column": 11
        },
        {
         "Poster_Link": "https://m.media-amazon.com/images/M/MV5BN2EyZjM3NzUtNWUzMi00MTgxLWI0NTctMzY4M2VlOTdjZWRiXkEyXkFqcGdeQXVyNDUzOTQ5MjY@._V1_UX67_CR0,0,67,98_AL_.jpg",
         "Series_Title": "The Lord of the Rings: The Fellowship of the Ring",
         "Released_Year": "2001",
         "Certificate": "U",
         "Runtime": "178 min",
         "Genre": "Action, Adventure, Drama",
         "IMDB_Rating": 8.8,
         "Overview": "A meek Hobbit from the Shire and eight companions set out on a journey to destroy the powerful One Ring and save Middle-earth from the Dark Lord Sauron.",
         "Meta_score": 92,
         "Director": "Peter Jackson",
         "Star1": "Elijah Wood",
         "Star2": "Ian McKellen",
         "Star3": "Orlando Bloom",
         "Star4": "Sean Bean",
         "No_of_Votes": 1661481,
         "Gross": 315544750,
         "_deepnote_index_column": 10
        }
       ]
      },
      "text/plain": "                                          Poster_Link  \\\n0   https://m.media-amazon.com/images/M/MV5BMDFkYT...   \n1   https://m.media-amazon.com/images/M/MV5BM2MyNj...   \n2   https://m.media-amazon.com/images/M/MV5BMTMxNT...   \n3   https://m.media-amazon.com/images/M/MV5BMWMwMG...   \n4   https://m.media-amazon.com/images/M/MV5BMWU4N2...   \n5   https://m.media-amazon.com/images/M/MV5BNzA5ZD...   \n6   https://m.media-amazon.com/images/M/MV5BNGNhMD...   \n7   https://m.media-amazon.com/images/M/MV5BNDE4OT...   \n11  https://m.media-amazon.com/images/M/MV5BNWIwOD...   \n10  https://m.media-amazon.com/images/M/MV5BN2EyZj...   \n\n                                         Series_Title Released_Year  \\\n0                            The Shawshank Redemption          1994   \n1                                       The Godfather          1972   \n2                                     The Dark Knight          2008   \n3                              The Godfather: Part II          1974   \n4                                        12 Angry Men          1957   \n5       The Lord of the Rings: The Return of the King          2003   \n6                                        Pulp Fiction          1994   \n7                                    Schindler's List          1993   \n11                                       Forrest Gump          1994   \n10  The Lord of the Rings: The Fellowship of the Ring          2001   \n\n   Certificate  Runtime                      Genre  IMDB_Rating  \\\n0            A  142 min                      Drama          9.3   \n1            A  175 min               Crime, Drama          9.2   \n2           UA  152 min       Action, Crime, Drama          9.0   \n3            A  202 min               Crime, Drama          9.0   \n4            U   96 min               Crime, Drama          9.0   \n5            U  201 min   Action, Adventure, Drama          8.9   \n6            A  154 min               Crime, Drama          8.9   \n7            A  195 min  Biography, Drama, History          8.9   \n11          UA  142 min             Drama, Romance          8.8   \n10           U  178 min   Action, Adventure, Drama          8.8   \n\n                                             Overview  Meta_score  \\\n0   Two imprisoned men bond over a number of years...        80.0   \n1   An organized crime dynasty's aging patriarch t...       100.0   \n2   When the menace known as the Joker wreaks havo...        84.0   \n3   The early life and career of Vito Corleone in ...        90.0   \n4   A jury holdout attempts to prevent a miscarria...        96.0   \n5   Gandalf and Aragorn lead the World of Men agai...        94.0   \n6   The lives of two mob hitmen, a boxer, a gangst...        94.0   \n7   In German-occupied Poland during World War II,...        94.0   \n11  The presidencies of Kennedy and Johnson, the e...        82.0   \n10  A meek Hobbit from the Shire and eight compani...        92.0   \n\n                Director           Star1            Star2              Star3  \\\n0         Frank Darabont     Tim Robbins   Morgan Freeman         Bob Gunton   \n1   Francis Ford Coppola   Marlon Brando        Al Pacino         James Caan   \n2      Christopher Nolan  Christian Bale     Heath Ledger      Aaron Eckhart   \n3   Francis Ford Coppola       Al Pacino   Robert De Niro      Robert Duvall   \n4           Sidney Lumet     Henry Fonda      Lee J. Cobb      Martin Balsam   \n5          Peter Jackson     Elijah Wood  Viggo Mortensen       Ian McKellen   \n6      Quentin Tarantino   John Travolta      Uma Thurman  Samuel L. Jackson   \n7       Steven Spielberg     Liam Neeson    Ralph Fiennes       Ben Kingsley   \n11       Robert Zemeckis       Tom Hanks     Robin Wright        Gary Sinise   \n10         Peter Jackson     Elijah Wood     Ian McKellen      Orlando Bloom   \n\n               Star4  No_of_Votes        Gross  \n0     William Sadler      2343110   28341469.0  \n1       Diane Keaton      1620367  134966411.0  \n2      Michael Caine      2303232  534858444.0  \n3       Diane Keaton      1129952   57300000.0  \n4       John Fiedler       689845    4360000.0  \n5      Orlando Bloom      1642758  377845905.0  \n6       Bruce Willis      1826188  107928762.0  \n7   Caroline Goodall      1213505   96898818.0  \n11       Sally Field      1809221  330252182.0  \n10         Sean Bean      1661481  315544750.0  ",
      "text/html": "<div>\n<style scoped>\n    .dataframe tbody tr th:only-of-type {\n        vertical-align: middle;\n    }\n\n    .dataframe tbody tr th {\n        vertical-align: top;\n    }\n\n    .dataframe thead th {\n        text-align: right;\n    }\n</style>\n<table border=\"1\" class=\"dataframe\">\n  <thead>\n    <tr style=\"text-align: right;\">\n      <th></th>\n      <th>Poster_Link</th>\n      <th>Series_Title</th>\n      <th>Released_Year</th>\n      <th>Certificate</th>\n      <th>Runtime</th>\n      <th>Genre</th>\n      <th>IMDB_Rating</th>\n      <th>Overview</th>\n      <th>Meta_score</th>\n      <th>Director</th>\n      <th>Star1</th>\n      <th>Star2</th>\n      <th>Star3</th>\n      <th>Star4</th>\n      <th>No_of_Votes</th>\n      <th>Gross</th>\n    </tr>\n  </thead>\n  <tbody>\n    <tr>\n      <th>0</th>\n      <td>https://m.media-amazon.com/images/M/MV5BMDFkYT...</td>\n      <td>The Shawshank Redemption</td>\n      <td>1994</td>\n      <td>A</td>\n      <td>142 min</td>\n      <td>Drama</td>\n      <td>9.3</td>\n      <td>Two imprisoned men bond over a number of years...</td>\n      <td>80.0</td>\n      <td>Frank Darabont</td>\n      <td>Tim Robbins</td>\n      <td>Morgan Freeman</td>\n      <td>Bob Gunton</td>\n      <td>William Sadler</td>\n      <td>2343110</td>\n      <td>28341469.0</td>\n    </tr>\n    <tr>\n      <th>1</th>\n      <td>https://m.media-amazon.com/images/M/MV5BM2MyNj...</td>\n      <td>The Godfather</td>\n      <td>1972</td>\n      <td>A</td>\n      <td>175 min</td>\n      <td>Crime, Drama</td>\n      <td>9.2</td>\n      <td>An organized crime dynasty's aging patriarch t...</td>\n      <td>100.0</td>\n      <td>Francis Ford Coppola</td>\n      <td>Marlon Brando</td>\n      <td>Al Pacino</td>\n      <td>James Caan</td>\n      <td>Diane Keaton</td>\n      <td>1620367</td>\n      <td>134966411.0</td>\n    </tr>\n    <tr>\n      <th>2</th>\n      <td>https://m.media-amazon.com/images/M/MV5BMTMxNT...</td>\n      <td>The Dark Knight</td>\n      <td>2008</td>\n      <td>UA</td>\n      <td>152 min</td>\n      <td>Action, Crime, Drama</td>\n      <td>9.0</td>\n      <td>When the menace known as the Joker wreaks havo...</td>\n      <td>84.0</td>\n      <td>Christopher Nolan</td>\n      <td>Christian Bale</td>\n      <td>Heath Ledger</td>\n      <td>Aaron Eckhart</td>\n      <td>Michael Caine</td>\n      <td>2303232</td>\n      <td>534858444.0</td>\n    </tr>\n    <tr>\n      <th>3</th>\n      <td>https://m.media-amazon.com/images/M/MV5BMWMwMG...</td>\n      <td>The Godfather: Part II</td>\n      <td>1974</td>\n      <td>A</td>\n      <td>202 min</td>\n      <td>Crime, Drama</td>\n      <td>9.0</td>\n      <td>The early life and career of Vito Corleone in ...</td>\n      <td>90.0</td>\n      <td>Francis Ford Coppola</td>\n      <td>Al Pacino</td>\n      <td>Robert De Niro</td>\n      <td>Robert Duvall</td>\n      <td>Diane Keaton</td>\n      <td>1129952</td>\n      <td>57300000.0</td>\n    </tr>\n    <tr>\n      <th>4</th>\n      <td>https://m.media-amazon.com/images/M/MV5BMWU4N2...</td>\n      <td>12 Angry Men</td>\n      <td>1957</td>\n      <td>U</td>\n      <td>96 min</td>\n      <td>Crime, Drama</td>\n      <td>9.0</td>\n      <td>A jury holdout attempts to prevent a miscarria...</td>\n      <td>96.0</td>\n      <td>Sidney Lumet</td>\n      <td>Henry Fonda</td>\n      <td>Lee J. Cobb</td>\n      <td>Martin Balsam</td>\n      <td>John Fiedler</td>\n      <td>689845</td>\n      <td>4360000.0</td>\n    </tr>\n    <tr>\n      <th>5</th>\n      <td>https://m.media-amazon.com/images/M/MV5BNzA5ZD...</td>\n      <td>The Lord of the Rings: The Return of the King</td>\n      <td>2003</td>\n      <td>U</td>\n      <td>201 min</td>\n      <td>Action, Adventure, Drama</td>\n      <td>8.9</td>\n      <td>Gandalf and Aragorn lead the World of Men agai...</td>\n      <td>94.0</td>\n      <td>Peter Jackson</td>\n      <td>Elijah Wood</td>\n      <td>Viggo Mortensen</td>\n      <td>Ian McKellen</td>\n      <td>Orlando Bloom</td>\n      <td>1642758</td>\n      <td>377845905.0</td>\n    </tr>\n    <tr>\n      <th>6</th>\n      <td>https://m.media-amazon.com/images/M/MV5BNGNhMD...</td>\n      <td>Pulp Fiction</td>\n      <td>1994</td>\n      <td>A</td>\n      <td>154 min</td>\n      <td>Crime, Drama</td>\n      <td>8.9</td>\n      <td>The lives of two mob hitmen, a boxer, a gangst...</td>\n      <td>94.0</td>\n      <td>Quentin Tarantino</td>\n      <td>John Travolta</td>\n      <td>Uma Thurman</td>\n      <td>Samuel L. Jackson</td>\n      <td>Bruce Willis</td>\n      <td>1826188</td>\n      <td>107928762.0</td>\n    </tr>\n    <tr>\n      <th>7</th>\n      <td>https://m.media-amazon.com/images/M/MV5BNDE4OT...</td>\n      <td>Schindler's List</td>\n      <td>1993</td>\n      <td>A</td>\n      <td>195 min</td>\n      <td>Biography, Drama, History</td>\n      <td>8.9</td>\n      <td>In German-occupied Poland during World War II,...</td>\n      <td>94.0</td>\n      <td>Steven Spielberg</td>\n      <td>Liam Neeson</td>\n      <td>Ralph Fiennes</td>\n      <td>Ben Kingsley</td>\n      <td>Caroline Goodall</td>\n      <td>1213505</td>\n      <td>96898818.0</td>\n    </tr>\n    <tr>\n      <th>11</th>\n      <td>https://m.media-amazon.com/images/M/MV5BNWIwOD...</td>\n      <td>Forrest Gump</td>\n      <td>1994</td>\n      <td>UA</td>\n      <td>142 min</td>\n      <td>Drama, Romance</td>\n      <td>8.8</td>\n      <td>The presidencies of Kennedy and Johnson, the e...</td>\n      <td>82.0</td>\n      <td>Robert Zemeckis</td>\n      <td>Tom Hanks</td>\n      <td>Robin Wright</td>\n      <td>Gary Sinise</td>\n      <td>Sally Field</td>\n      <td>1809221</td>\n      <td>330252182.0</td>\n    </tr>\n    <tr>\n      <th>10</th>\n      <td>https://m.media-amazon.com/images/M/MV5BN2EyZj...</td>\n      <td>The Lord of the Rings: The Fellowship of the Ring</td>\n      <td>2001</td>\n      <td>U</td>\n      <td>178 min</td>\n      <td>Action, Adventure, Drama</td>\n      <td>8.8</td>\n      <td>A meek Hobbit from the Shire and eight compani...</td>\n      <td>92.0</td>\n      <td>Peter Jackson</td>\n      <td>Elijah Wood</td>\n      <td>Ian McKellen</td>\n      <td>Orlando Bloom</td>\n      <td>Sean Bean</td>\n      <td>1661481</td>\n      <td>315544750.0</td>\n    </tr>\n  </tbody>\n</table>\n</div>"
     },
     "metadata": {}
    }
   ]
  },
  {
   "cell_type": "code",
   "metadata": {
    "cell_id": "c19d743d9c9e4869a46825e96cf32c44",
    "tags": [],
    "deepnote_to_be_reexecuted": false,
    "source_hash": "f0c63c8f",
    "execution_start": 1648995912813,
    "execution_millis": 0,
    "deepnote_cell_type": "code",
    "deepnote_cell_height": 81
   },
   "source": "top_10 = top_10[\"Gross\"].sort_values()",
   "execution_count": null,
   "outputs": []
  },
  {
   "cell_type": "code",
   "metadata": {
    "cell_id": "47468d808b3944efa844fb005effad74",
    "tags": [],
    "deepnote_to_be_reexecuted": false,
    "source_hash": "ffe62ee7",
    "execution_start": 1648996028630,
    "execution_millis": 258,
    "deepnote_cell_type": "code",
    "deepnote_cell_height": 361,
    "deepnote_output_heights": [
     264
    ]
   },
   "source": "fig = top_10.plot.bar(x='Series_Title', y='Gross', rot=90, color=['royalblue','gold'])",
   "execution_count": null,
   "outputs": [
    {
     "data": {
      "text/plain": "<Figure size 432x288 with 1 Axes>",
      "image/png": "[encoded data removed]"
     },
     "metadata": {
      "needs_background": "light",
      "image/png": {
       "width": 362,
       "height": 262
      }
     },
     "output_type": "display_data"
    }
   ]
  },
  {
   "cell_type": "markdown",
   "source": "<a style='text-decoration:none;line-height:16px;display:flex;color:#5B5B62;padding:10px;justify-content:end;' href='https://deepnote.com?utm_source=created-in-deepnote-cell&projectId=d3ccf13f-f18e-4642-8bf3-f3aef0191a32' target=\"_blank\">\n<img alt='Created in deepnote.com' style='display:inline;max-height:16px;margin:0px;margin-right:7.5px;' src='data:image/svg+xml;base64,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' > </img>\nCreated in <span style='font-weight:600;margin-left:4px;'>Deepnote</span></a>",
   "metadata": {
    "tags": [],
    "created_in_deepnote_cell": true,
    "deepnote_cell_type": "markdown"
   }
  }
 ],
 "nbformat": 4,
 "nbformat_minor": 2,
 "metadata": {
  "orig_nbformat": 2,
  "deepnote": {
   "is_reactive": false
  },
  "deepnote_notebook_id": "d4f15b46-b119-41ce-8d4d-d9d6d5804d20",
  "deepnote_execution_queue": []
 }
}